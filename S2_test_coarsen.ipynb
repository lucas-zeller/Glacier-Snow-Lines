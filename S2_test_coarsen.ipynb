{
 "cells": [
  {
   "cell_type": "code",
   "execution_count": 1,
   "id": "8d945ef0",
   "metadata": {},
   "outputs": [],
   "source": [
    "import os\n",
    "import rasterio as rio\n",
    "import numpy as np\n",
    "import shapely\n",
    "import pyproj\n",
    "import geopandas as gpd\n",
    "import matplotlib.pyplot as plt\n",
    "import rioxarray as riox\n",
    "import rasterio as rio\n",
    "import xarray as xr\n",
    "import netCDF4\n",
    "from osgeo import gdal\n",
    "import pandas as pd\n",
    "from datetime import datetime\n",
    "import snowFun\n",
    "import dask.array\n",
    "# %matplotlib widget\n",
    "\n",
    "# define folder and file paths\n",
    "folder_AGVA = os.path.join('C:',os.sep,'Users','lzell','OneDrive - Colostate','Desktop',\"AGVA\")\n",
    "folder_dems = os.path.join(folder_AGVA, \"DEMs\", \"time_varying_DEMs\", \"10m\")\n",
    "folder_class = os.path.join(folder_AGVA, 'classified images', 'S2_Classified_Cloudmasked_Merged')\n",
    "folder_cloud = os.path.join(folder_AGVA, 'classified images', 'S2_Cloud_Merged')\n",
    "folder_meta = os.path.join(folder_AGVA, \"classified images\", \"meta csv\", \"S2\")\n",
    "folder_mask = os.path.join(folder_AGVA, 'Derived products', 'S2', 'Masks')\n"
   ]
  },
  {
   "cell_type": "code",
   "execution_count": null,
   "id": "788185a2",
   "metadata": {},
   "outputs": [],
   "source": [
    "# open wolverine data \n",
    "file_name = os.path.join(folder_AGVA, 'coarsen', \"original.tif\")\n",
    "xr_original = riox.open_rasterio(file_name)"
   ]
  },
  {
   "cell_type": "code",
   "execution_count": null,
   "id": "e4555f1b",
   "metadata": {},
   "outputs": [],
   "source": [
    "xr_original.head()"
   ]
  },
  {
   "cell_type": "code",
   "execution_count": null,
   "id": "d2ea6510",
   "metadata": {},
   "outputs": [],
   "source": [
    "# coarsen and save\n",
    "xr_coarse = xr_original.coarsen({\"x\":3, \"y\":3}, boundary=\"trim\").median(skipna=True)"
   ]
  },
  {
   "cell_type": "code",
   "execution_count": null,
   "id": "c4099d8c",
   "metadata": {},
   "outputs": [],
   "source": [
    "path_save = os.path.join(folder_AGVA, 'coarsen', \"coarse3.tif\")\n",
    "xr_coarse.rio.to_raster(path_save)"
   ]
  },
  {
   "cell_type": "code",
   "execution_count": 2,
   "id": "09b93948",
   "metadata": {},
   "outputs": [
    {
     "name": "stdout",
     "output_type": "stream",
     "text": [
      "('time', 'y', 'x')\n"
     ]
    }
   ],
   "source": [
    "folder_save = os.path.join(folder_AGVA, 'Derived products', 'S2')\n",
    "path_test = os.path.join(folder_save, 'Daily AAs', f\"S2_RGI60-01.14443_2018_daily_AAs.nc\")  \n",
    "\n",
    "# open data\n",
    "xr_to_use = xr.open_dataset(path_test, chunks={'band':1, 'y':-1, 'x':-1})['class']#.to_array()\n",
    "# print(xr_to_use.head)\n",
    "\n",
    "# coarsen and save\n",
    "usable = xr.where(xr_to_use>0, 1, 0).astype(\"uint8\").coarsen({\"x\":5, \"y\":5}, boundary=\"trim\").mean(skipna=True)\n",
    "print(usable.dims)\n",
    "\n",
    "# save\n",
    "usable.rio.to_raster(os.path.join(folder_save, 'temp.tif'), dtype='uint8')\n",
    "\n",
    "percent_usable_by_time = (usable.sum(dim=['x','y'])*25/10287990).compute().values[0]"
   ]
  },
  {
   "cell_type": "code",
   "execution_count": 17,
   "id": "753cecb2",
   "metadata": {},
   "outputs": [],
   "source": [
    "path_temp = os.path.join(folder_save, 'temp.tif')\n",
    "usable_temp = riox.open_rasterio(path_temp)\n",
    "percent_usable_by_time = (usable_temp.sum(dim=['x','y'])).compute()"
   ]
  },
  {
   "cell_type": "code",
   "execution_count": 26,
   "id": "dc38c675",
   "metadata": {},
   "outputs": [
    {
     "name": "stdout",
     "output_type": "stream",
     "text": [
      "[ 0  9  0 30 85  0  1  0 27 76 90  0  2 59  7  9  1 77  0 31 17 21  3 51\n",
      " 28 16 40  7  6 32 32  5  1 23  1  5 90 45 79 47  2  4 32  0  1 37 23 79\n",
      " 89 49 64  8 21 78 89  1  0  0  0  3 27  2  6 11 14 31  3  4  9 13  2 57\n",
      " 72 35 77 59 42 26 86  4 38 45 72 83 45  6  0  2 69 33 68 35 21 51  0 30\n",
      "  0  0  6  1 10  0  0  0  0 44 21 12 15  4 31 25 33 10 25  0 19  0  0 34\n",
      "  0  4  0  0]\n"
     ]
    }
   ],
   "source": [
    "percents = percent_usable_by_time.values*25*100/(2834.493*1000*1000)*100\n",
    "print(percents.astype(int))"
   ]
  }
 ],
 "metadata": {
  "kernelspec": {
   "display_name": "Python 3 (ipykernel)",
   "language": "python",
   "name": "python3"
  },
  "language_info": {
   "codemirror_mode": {
    "name": "ipython",
    "version": 3
   },
   "file_extension": ".py",
   "mimetype": "text/x-python",
   "name": "python",
   "nbconvert_exporter": "python",
   "pygments_lexer": "ipython3",
   "version": "3.8.17"
  }
 },
 "nbformat": 4,
 "nbformat_minor": 5
}
