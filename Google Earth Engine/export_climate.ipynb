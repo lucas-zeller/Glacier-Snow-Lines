{
 "cells": [
  {
   "cell_type": "code",
   "execution_count": 2,
   "id": "71823b5c",
   "metadata": {},
   "outputs": [],
   "source": [
    "import ee\n",
    "#import geetools\n",
    "import numpy as np\n",
    "import json\n",
    "import pandas as pd\n",
    "import geopandas as gpd\n",
    "import os\n",
    "import numpy as np\n",
    "\n",
    "# Trigger the authentication flow.\n",
    "# ee.Authenticate()\n",
    "\n",
    "# Initialize the library.\n",
    "ee.Initialize()"
   ]
  },
  {
   "cell_type": "code",
   "execution_count": 3,
   "id": "03ed7f71",
   "metadata": {},
   "outputs": [],
   "source": [
    "# rgi outlines\n",
    "asset_rgi01_Alaska = ee.FeatureCollection('projects/lzeller/assets/01_rgi60_Alaska')\n",
    "\n",
    "# simple outline\n",
    "asset_simpleoutline = ee.FeatureCollection('projects/lzeller/assets/AGVAsimplearea')  # eventually redo this to be areas within 5km of rgi outlines >0.5km\n",
    "\n",
    "# subregion outlines\n",
    "asset_subregions = ee.FeatureCollection('projects/lzeller/assets/Alaska_RGI_Subregions')\n",
    "\n",
    "# define geometry to export\n",
    "region = ee.Geometry.Polygon(  [[174.4484375,48.23114486338655],\n",
    "                                [235.6203125,48.23114486338655],\n",
    "                                [235.6203125,68.27298364423518],\n",
    "                                [174.4484375,68.27298364423518],\n",
    "                                [174.4484375,48.23114486338655]] )"
   ]
  },
  {
   "cell_type": "code",
   "execution_count": 4,
   "id": "016fecdb",
   "metadata": {},
   "outputs": [],
   "source": [
    "# load the climate data, select variables and dates\n",
    "climate_data = (ee.ImageCollection('ECMWF/ERA5_LAND/DAILY_AGGR')\n",
    "                    .filterDate('2018-01-01', '2023-01-01')\n",
    "                    .select(['temperature_2m', 'total_precipitation_sum'])\n",
    "               )"
   ]
  },
  {
   "cell_type": "code",
   "execution_count": 5,
   "id": "c6d152ad",
   "metadata": {},
   "outputs": [
    {
     "name": "stdout",
     "output_type": "stream",
     "text": [
      "{'type': 'Projection', 'crs': 'EPSG:4326', 'transform': [0.1, 0, -180.05, 0, -0.1, 90.05]}\n"
     ]
    }
   ],
   "source": [
    "test = climate_data.select('temperature_2m').toBands()\n",
    "# print(test.bandNames().getInfo())\n",
    "print(test.projection().getInfo())"
   ]
  },
  {
   "cell_type": "code",
   "execution_count": 6,
   "id": "fa648408",
   "metadata": {},
   "outputs": [
    {
     "name": "stdout",
     "output_type": "stream",
     "text": [
      "{'type': 'Projection', 'crs': 'EPSG:4326', 'transform': [1, 0, 0, 0, 1, 0]}\n"
     ]
    }
   ],
   "source": [
    "print(region.projection().getInfo())"
   ]
  },
  {
   "cell_type": "code",
   "execution_count": 7,
   "id": "a3cc977f",
   "metadata": {},
   "outputs": [],
   "source": [
    "# select temperature_2m, total_precipitation_sum and export separately\n",
    "temp = climate_data.select('temperature_2m').toBands()\n",
    "precip = climate_data.select('total_precipitation_sum').toBands()\n",
    "\n",
    "# export the images to drive\n",
    "task = ee.batch.Export.image.toDrive(\n",
    "        image = temp, #regional_clipped_image,\n",
    "        region = region, #asset_simpleoutline.geometry(), # region.bounds()\n",
    "        folder = 'Climate',\n",
    "        maxPixels = int(1e13),\n",
    "        description = 'era5land_daily_temp_2018_2022',\n",
    "        skipEmptyTiles = True\n",
    "        )\n",
    "task.start()\n",
    "\n",
    "task = ee.batch.Export.image.toDrive(\n",
    "        image = precip, #regional_clipped_image,\n",
    "        region = region, #asset_simpleoutline.geometry(), # region.bounds()\n",
    "        folder = 'Climate',\n",
    "        maxPixels = int(1e13),\n",
    "        description = 'era5land_daily_precip_2018_2022',\n",
    "        skipEmptyTiles = True\n",
    "        )\n",
    "task.start()"
   ]
  }
 ],
 "metadata": {
  "kernelspec": {
   "display_name": "Python 3 (ipykernel)",
   "language": "python",
   "name": "python3"
  },
  "language_info": {
   "codemirror_mode": {
    "name": "ipython",
    "version": 3
   },
   "file_extension": ".py",
   "mimetype": "text/x-python",
   "name": "python",
   "nbconvert_exporter": "python",
   "pygments_lexer": "ipython3",
   "version": "3.8.17"
  }
 },
 "nbformat": 4,
 "nbformat_minor": 5
}
