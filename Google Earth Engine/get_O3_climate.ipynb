{
 "cells": [
  {
   "cell_type": "markdown",
   "id": "d58c77ce",
   "metadata": {},
   "source": [
    "Extract monthly climate variables (ERA5Land) for the rgi subregions"
   ]
  },
  {
   "cell_type": "code",
   "execution_count": 1,
   "id": "3257a981",
   "metadata": {},
   "outputs": [],
   "source": [
    "import ee\n",
    "import numpy as np\n",
    "import json\n",
    "import pandas as pd\n",
    "import geopandas as gpd\n",
    "import os\n",
    "import numpy as np"
   ]
  },
  {
   "cell_type": "code",
   "execution_count": 2,
   "id": "c2db5715",
   "metadata": {},
   "outputs": [],
   "source": [
    "#%%\n",
    "# # # Trigger the authentication flow.\n",
    "# ee.Authenticate()\n",
    "\n",
    "# # # Initialize the library.\n",
    "ee.Initialize()"
   ]
  },
  {
   "cell_type": "code",
   "execution_count": 3,
   "id": "307e7a8e",
   "metadata": {},
   "outputs": [],
   "source": [
    "# define folder and file paths\n",
    "folder_AGVA = os.path.join('C:',os.sep,'Users','lzell','OneDrive - Colostate','Desktop',\"AGVA\")\n",
    "folder_climate = os.path.join(folder_AGVA, \"Climate\")"
   ]
  },
  {
   "cell_type": "code",
   "execution_count": 4,
   "id": "3fee5b40",
   "metadata": {},
   "outputs": [],
   "source": [
    "### get convex hull of the glacier in each O3Region\n",
    "\n",
    "# load rgi outlines\n",
    "asset_rgi = ee.FeatureCollection('projects/lzeller/assets/rgi_2km_o3regions')\n",
    "\n",
    "# aggregate list of unique subregions\n",
    "subregions = asset_rgi.aggregate_array(\"O3Region\").distinct().sort().remove(0)\n",
    "\n",
    "# define function that gets convex hull of glaciers\n",
    "def get_chull(region):\n",
    "  \n",
    "    # get geometry of the glaciers\n",
    "    rgio3 = asset_rgi.filter(ee.Filter.eq('O3Region', region)).geometry()\n",
    "\n",
    "    # get convex hull of the region\n",
    "    rgio3_chull = rgio3.convexHull();\n",
    "\n",
    "    # create feature to return\n",
    "    feature_return = ee.Feature(rgio3_chull, {\"O3Region\":region})\n",
    "    \n",
    "    return feature_return\n",
    "\n",
    "# get the bounding geometries for each\n",
    "o3_chulls = ee.FeatureCollection( subregions.map(lambda x : get_chull(x) ))"
   ]
  },
  {
   "cell_type": "code",
   "execution_count": 5,
   "id": "553e2ac7",
   "metadata": {},
   "outputs": [],
   "source": [
    "### load in ERA5Land monthly data\n",
    "era5land_monthly = ee.ImageCollection('ECMWF/ERA5_LAND/MONTHLY_AGGR')\n",
    "\n",
    "# define a function that will grab the era5land data for a specific year/month\n",
    "def get_year_month_era5(y1,y2,m1,m2):\n",
    "    subset_era5 = era5land_monthly.filter(ee.Filter.calendarRange(y1, y2, 'year'))\n",
    "    subset_era5 = subset_era5.filter(ee.Filter.calendarRange(m1, m2, 'month'))\n",
    "    return subset_era5\n",
    "\n",
    "# Create a function to calculate the mean value of a raster within a feature geometry\n",
    "def calculate_mean(raster, feature):\n",
    "    \n",
    "    # Calculate the mean values for the current month\n",
    "    mean = raster.reduceRegion(\n",
    "        reducer=ee.Reducer.mean(),\n",
    "        geometry=feature.geometry(),\n",
    "        scale=100,\n",
    "        maxPixels=1e13\n",
    "    )\n",
    "    \n",
    "    # return the mean\n",
    "    return mean\n",
    "        \n",
    "# define function that will get mean ERA5 value of given variables, given a year, month, geometry, variables\n",
    "# def get_ERA5_data(variables, year, month, feature):\n",
    "    \n",
    "#     # subset to just this year/month\n",
    "#     subset_data = ee.Image(get_year_month_era5(year, year, month, month).first())\n",
    "    \n",
    "#     # select just the variable in question\n",
    "#     subset_data = subset_data.select(variables)\n",
    "    \n",
    "#     # get the average of this data within the feature geometry\n",
    "#     subset_average = calculate_mean(ee.Image(subset_data), feature)\n",
    "    \n",
    "#     return subset_average\n",
    "\n",
    "def get_ERA5_daterange(variable, year_start, year_end, month_start, month_end, feature):\n",
    "    \n",
    "    # subset to just these years/months\n",
    "    subset_data = get_year_month_era5(year_start, year_end, month_start, month_end)\n",
    "    \n",
    "    # select just the variable in question\n",
    "    subset_data = subset_data.select(variable).toBands()\n",
    "    \n",
    "    # get the average of this data within the feature geometry\n",
    "    subset_average = calculate_mean(ee.Image(subset_data), feature)\n",
    "    \n",
    "    return subset_average"
   ]
  },
  {
   "cell_type": "code",
   "execution_count": 6,
   "id": "b185644a",
   "metadata": {},
   "outputs": [
    {
     "name": "stdout",
     "output_type": "stream",
     "text": [
      "Starting Region 1\n",
      "Starting Region 2\n",
      "Starting Region 3\n",
      "Starting Region 4\n",
      "Starting Region 5\n",
      "Starting Region 6\n",
      "Starting Region 7\n",
      "Starting Region 8\n",
      "Starting Region 9\n",
      "Starting Region 10\n",
      "Starting Region 11\n",
      "Starting Region 12\n",
      "Starting Region 13\n",
      "Starting Region 14\n",
      "Starting Region 15\n",
      "Starting Region 16\n",
      "Done!\n"
     ]
    }
   ],
   "source": [
    "# for each subregion, send it off to get the data\n",
    "for region_n in [1,2,3,4,5,6,7,8,9,10,11,12,13,14,15,16]:\n",
    "    \n",
    "    print(f\"Starting Region {region_n}\")\n",
    "\n",
    "    # get just this region geometry\n",
    "    subset_chull = o3_chulls.filter(ee.Filter.eq('O3Region', region_n))\n",
    "\n",
    "    # get each of the data variables you want\n",
    "    data_t2m = get_ERA5_daterange('temperature_2m', 2018, 2022, 1, 12, subset_chull.first())\n",
    "    data_precip = get_ERA5_daterange('total_precipitation_sum', 2018, 2022, 1, 12, subset_chull.first())\n",
    "    data_snow = get_ERA5_daterange('snowfall_sum', 2018, 2022, 1, 12, subset_chull.first())\n",
    "\n",
    "    # format into df\n",
    "    df_t2m = pd.DataFrame.from_dict(data_t2m.getInfo(), orient='index').reset_index()\n",
    "    df_precip = pd.DataFrame.from_dict(data_precip.getInfo(), orient='index').reset_index()\n",
    "    df_snow = pd.DataFrame.from_dict(data_snow.getInfo(), orient='index').reset_index()\n",
    "\n",
    "\n",
    "    # construct a new df combining all the data\n",
    "    df_all = pd.DataFrame()\n",
    "\n",
    "    # add in date data\n",
    "    df_all['date'] = [i[:6] for i in df_t2m['index']]\n",
    "    df_all['year'] = [int(i[:4]) for i in df_t2m['index']]\n",
    "    df_all['month'] = [int(i[4:6]) for i in df_t2m['index']]\n",
    "\n",
    "    # add variables\n",
    "    df_all['temperature_2m'] = df_t2m[0]\n",
    "    df_all['total_precipitation_sum'] = df_precip[0]\n",
    "    df_all['snowfall_sum'] = df_snow[0]\n",
    "\n",
    "    # save to computer\n",
    "    out_path = os.path.join(folder_climate, \"O3Regions\", f'Region_{str(region_n).zfill(2)}_monthly.csv')\n",
    "    df_all.to_csv(out_path, index=False)\n",
    "\n",
    "print(\"Done!\")"
   ]
  }
 ],
 "metadata": {
  "kernelspec": {
   "display_name": "Python 3 (ipykernel)",
   "language": "python",
   "name": "python3"
  },
  "language_info": {
   "codemirror_mode": {
    "name": "ipython",
    "version": 3
   },
   "file_extension": ".py",
   "mimetype": "text/x-python",
   "name": "python",
   "nbconvert_exporter": "python",
   "pygments_lexer": "ipython3",
   "version": "3.8.17"
  }
 },
 "nbformat": 4,
 "nbformat_minor": 5
}
