{
 "cells": [
  {
   "cell_type": "markdown",
   "id": "5ebd6cd6",
   "metadata": {},
   "source": [
    "Extract monthly climate variables (ERA5Land) for the rgi subregions"
   ]
  },
  {
   "cell_type": "code",
   "execution_count": 3,
   "id": "5b3036f2",
   "metadata": {},
   "outputs": [],
   "source": [
    "import ee\n",
    "import numpy as np\n",
    "import json\n",
    "import pandas as pd\n",
    "import geopandas as gpd\n",
    "import os\n",
    "import numpy as np"
   ]
  },
  {
   "cell_type": "code",
   "execution_count": 4,
   "id": "b5085681",
   "metadata": {},
   "outputs": [],
   "source": [
    "#%%\n",
    "# # # Trigger the authentication flow.\n",
    "# ee.Authenticate()\n",
    "\n",
    "# # # Initialize the library.\n",
    "ee.Initialize()"
   ]
  },
  {
   "cell_type": "code",
   "execution_count": 2,
   "id": "b48b1ae1",
   "metadata": {},
   "outputs": [
    {
     "ename": "NameError",
     "evalue": "name 'os' is not defined",
     "output_type": "error",
     "traceback": [
      "\u001b[1;31m---------------------------------------------------------------------------\u001b[0m",
      "\u001b[1;31mNameError\u001b[0m                                 Traceback (most recent call last)",
      "Cell \u001b[1;32mIn[2], line 2\u001b[0m\n\u001b[0;32m      1\u001b[0m \u001b[38;5;66;03m# define folder and file paths\u001b[39;00m\n\u001b[1;32m----> 2\u001b[0m folder_AGVA \u001b[38;5;241m=\u001b[39m \u001b[43mos\u001b[49m\u001b[38;5;241m.\u001b[39mpath\u001b[38;5;241m.\u001b[39mjoin(\u001b[38;5;124m'\u001b[39m\u001b[38;5;124mC:\u001b[39m\u001b[38;5;124m'\u001b[39m,os\u001b[38;5;241m.\u001b[39msep,\u001b[38;5;124m'\u001b[39m\u001b[38;5;124mUsers\u001b[39m\u001b[38;5;124m'\u001b[39m,\u001b[38;5;124m'\u001b[39m\u001b[38;5;124mlzell\u001b[39m\u001b[38;5;124m'\u001b[39m,\u001b[38;5;124m'\u001b[39m\u001b[38;5;124mOneDrive - Colostate\u001b[39m\u001b[38;5;124m'\u001b[39m,\u001b[38;5;124m'\u001b[39m\u001b[38;5;124mDesktop\u001b[39m\u001b[38;5;124m'\u001b[39m,\u001b[38;5;124m\"\u001b[39m\u001b[38;5;124mAGVA\u001b[39m\u001b[38;5;124m\"\u001b[39m)\n\u001b[0;32m      3\u001b[0m folder_climate \u001b[38;5;241m=\u001b[39m os\u001b[38;5;241m.\u001b[39mpath\u001b[38;5;241m.\u001b[39mjoin(folder_AGVA, \u001b[38;5;124m\"\u001b[39m\u001b[38;5;124mClimate\u001b[39m\u001b[38;5;124m\"\u001b[39m)\n",
      "\u001b[1;31mNameError\u001b[0m: name 'os' is not defined"
     ]
    }
   ],
   "source": [
    "# define folder and file paths\n",
    "folder_AGVA = os.path.join('C:',os.sep,'Users','lzell','OneDrive - Colostate','Desktop',\"AGVA\")\n",
    "folder_climate = os.path.join(folder_AGVA, \"Climate\")"
   ]
  },
  {
   "cell_type": "code",
   "execution_count": 4,
   "id": "6f496944",
   "metadata": {},
   "outputs": [],
   "source": [
    "### get convex hull of the glacier in each O3Region\n",
    "\n",
    "# load rgi outlines\n",
    "asset_rgi = ee.FeatureCollection('projects/lzeller/assets/rgi_2km_o3regions')\n",
    "\n",
    "# aggregate list of unique subregions\n",
    "subregions = asset_rgi.aggregate_array(\"O3Region\").distinct().sort().remove(0)\n",
    "\n",
    "# define function that gets convex hull of glaciers\n",
    "def get_chull(region):\n",
    "  \n",
    "    # get geometry of the glaciers\n",
    "    rgio3 = asset_rgi.filter(ee.Filter.eq('O3Region', region)).geometry()\n",
    "\n",
    "    # get convex hull of the region\n",
    "    rgio3_chull = rgio3.convexHull();\n",
    "\n",
    "    # create feature to return\n",
    "    feature_return = ee.Feature(rgio3_chull, {\"O3Region\":region})\n",
    "    \n",
    "    return feature_return\n",
    "\n",
    "# get the bounding geometries for each\n",
    "o3_chulls = ee.FeatureCollection( subregions.map(lambda x : get_chull(x) ))"
   ]
  },
  {
   "cell_type": "code",
   "execution_count": 5,
   "id": "9942c81e",
   "metadata": {},
   "outputs": [],
   "source": [
    "### load in ERA5Land monthly data\n",
    "era5land_monthly = ee.ImageCollection('ECMWF/ERA5_LAND/MONTHLY_AGGR')\n",
    "\n",
    "# define a function that will grab the era5land data for a specific year/month\n",
    "def get_year_month_era5(y1,y2,m1,m2):\n",
    "    subset_era5 = era5land_monthly.filter(ee.Filter.calendarRange(y1, y2, 'year'))\n",
    "    subset_era5 = subset_era5.filter(ee.Filter.calendarRange(m1, m2, 'month'))\n",
    "    return subset_era5\n",
    "\n",
    "# Create a function to calculate the mean value of a raster within a feature geometry\n",
    "def calculate_mean(raster, feature):\n",
    "    \n",
    "    # Calculate the mean values for the current month\n",
    "    mean = raster.reduceRegion(\n",
    "        reducer=ee.Reducer.mean(),\n",
    "        geometry=feature.geometry(),\n",
    "        scale=100,\n",
    "        maxPixels=1e13\n",
    "    )\n",
    "    \n",
    "    # return the mean\n",
    "    return mean\n",
    "\n",
    "# Create a function to calculate the standard deviation of a raster within a feature geometry\n",
    "def calculate_std(raster, feature):\n",
    "    \n",
    "    # Calculate the mean values for the current month\n",
    "    std = raster.reduceRegion(\n",
    "        reducer=ee.Reducer.stdDev(),\n",
    "        geometry=feature.geometry(),\n",
    "        scale=100,\n",
    "        maxPixels=1e13\n",
    "    )\n",
    "    \n",
    "    # return the mean\n",
    "    return std\n",
    "        \n",
    "# define function that will get mean ERA5 value of given variables, given a year, month, geometry, variables\n",
    "# def get_ERA5_data(variables, year, month, feature):\n",
    "    \n",
    "#     # subset to just this year/month\n",
    "#     subset_data = ee.Image(get_year_month_era5(year, year, month, month).first())\n",
    "    \n",
    "#     # select just the variable in question\n",
    "#     subset_data = subset_data.select(variables)\n",
    "    \n",
    "#     # get the average of this data within the feature geometry\n",
    "#     subset_average = calculate_mean(ee.Image(subset_data), feature)\n",
    "    \n",
    "#     return subset_average\n",
    "\n",
    "def get_ERA5_daterange(variable, year_start, year_end, month_start, month_end, feature):\n",
    "    \n",
    "    # subset to just these years/months\n",
    "    subset_data = get_year_month_era5(year_start, year_end, month_start, month_end)\n",
    "    \n",
    "    # select just the variable in question\n",
    "    subset_data = subset_data.select(variable).toBands()\n",
    "    \n",
    "    # get the average of this data within the feature geometry\n",
    "    subset_average = calculate_mean(ee.Image(subset_data), feature)\n",
    "    \n",
    "    # get the standard deviation of this data within the feature geometry\n",
    "    subset_std = calculate_std(ee.Image(subset_data), feature)\n",
    "    \n",
    "    return subset_average\n"
   ]
  },
  {
   "cell_type": "code",
   "execution_count": 1,
   "id": "073ebcde",
   "metadata": {},
   "outputs": [
    {
     "name": "stdout",
     "output_type": "stream",
     "text": [
      "Starting Region 2\n"
     ]
    },
    {
     "ename": "NameError",
     "evalue": "name 'o3_chulls' is not defined",
     "output_type": "error",
     "traceback": [
      "\u001b[1;31m---------------------------------------------------------------------------\u001b[0m",
      "\u001b[1;31mNameError\u001b[0m                                 Traceback (most recent call last)",
      "Cell \u001b[1;32mIn[1], line 7\u001b[0m\n\u001b[0;32m      4\u001b[0m \u001b[38;5;28mprint\u001b[39m(\u001b[38;5;124mf\u001b[39m\u001b[38;5;124m\"\u001b[39m\u001b[38;5;124mStarting Region \u001b[39m\u001b[38;5;132;01m{\u001b[39;00mregion_n\u001b[38;5;132;01m}\u001b[39;00m\u001b[38;5;124m\"\u001b[39m)\n\u001b[0;32m      6\u001b[0m \u001b[38;5;66;03m# get just this region geometry\u001b[39;00m\n\u001b[1;32m----> 7\u001b[0m subset_chull \u001b[38;5;241m=\u001b[39m \u001b[43mo3_chulls\u001b[49m\u001b[38;5;241m.\u001b[39mfilter(ee\u001b[38;5;241m.\u001b[39mFilter\u001b[38;5;241m.\u001b[39meq(\u001b[38;5;124m'\u001b[39m\u001b[38;5;124mO3Region\u001b[39m\u001b[38;5;124m'\u001b[39m, region_n))\n\u001b[0;32m      9\u001b[0m \u001b[38;5;66;03m# get winter precip in 2018\u001b[39;00m\n\u001b[0;32m     10\u001b[0m data_w18 \u001b[38;5;241m=\u001b[39m get_ERA5_sum(\u001b[38;5;124m'\u001b[39m\u001b[38;5;124mtotal_precipitation_sum\u001b[39m\u001b[38;5;124m'\u001b[39m, \u001b[38;5;241m2018\u001b[39m, \u001b[38;5;241m2018\u001b[39m, \u001b[38;5;241m1\u001b[39m, \u001b[38;5;241m3\u001b[39m, subset_chull\u001b[38;5;241m.\u001b[39mfirst())\n",
      "\u001b[1;31mNameError\u001b[0m: name 'o3_chulls' is not defined"
     ]
    }
   ],
   "source": [
    "# for each subregion, send it off to get the data\n",
    "for region_n in [1,2,3,4,5,6,7,8,9,10,11,12,13,14,15,16]:\n",
    "    \n",
    "    print(f\"Starting Region {region_n}\")\n",
    "\n",
    "    # get just this region geometry\n",
    "    subset_chull = o3_chulls.filter(ee.Filter.eq('O3Region', region_n))\n",
    "\n",
    "    # get each of the data variables you want\n",
    "    data_t2m = get_ERA5_daterange('temperature_2m', 2018, 2022, 1, 12, subset_chull.first())\n",
    "    data_precip = get_ERA5_daterange('total_precipitation_sum', 2018, 2022, 1, 12, subset_chull.first())\n",
    "    data_snow = get_ERA5_daterange('snowfall_sum', 2018, 2022, 1, 12, subset_chull.first())\n",
    "\n",
    "    # format into df\n",
    "    df_t2m = pd.DataFrame.from_dict(data_t2m.getInfo(), orient='index').reset_index()\n",
    "    df_precip = pd.DataFrame.from_dict(data_precip.getInfo(), orient='index').reset_index()\n",
    "    df_snow = pd.DataFrame.from_dict(data_snow.getInfo(), orient='index').reset_index()\n",
    "\n",
    "\n",
    "    # construct a new df combining all the data\n",
    "    df_all = pd.DataFrame()\n",
    "\n",
    "    # add in date data\n",
    "    df_all['date'] = [i[:6] for i in df_t2m['index']]\n",
    "    df_all['year'] = [int(i[:4]) for i in df_t2m['index']]\n",
    "    df_all['month'] = [int(i[4:6]) for i in df_t2m['index']]\n",
    "\n",
    "    # add variables\n",
    "    df_all['temperature_2m'] = df_t2m[0]\n",
    "    df_all['total_precipitation_sum'] = df_precip[0]\n",
    "    df_all['snowfall_sum'] = df_snow[0]\n",
    "\n",
    "    # save to computer\n",
    "    out_path = os.path.join(folder_climate, \"O3Regions\", f'Region_{str(region_n).zfill(2)}_monthly.csv')\n",
    "    df_all.to_csv(out_path, index=False)\n",
    "\n",
    "print(\"Done!\")"
   ]
  }
 ],
 "metadata": {
  "kernelspec": {
   "display_name": "Python 3 (ipykernel)",
   "language": "python",
   "name": "python3"
  },
  "language_info": {
   "codemirror_mode": {
    "name": "ipython",
    "version": 3
   },
   "file_extension": ".py",
   "mimetype": "text/x-python",
   "name": "python",
   "nbconvert_exporter": "python",
   "pygments_lexer": "ipython3",
   "version": "3.8.17"
  }
 },
 "nbformat": 4,
 "nbformat_minor": 5
}
