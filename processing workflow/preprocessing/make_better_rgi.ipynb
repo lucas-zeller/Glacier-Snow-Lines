{
 "cells": [
  {
   "cell_type": "code",
   "execution_count": 2,
   "id": "45f8c2b8",
   "metadata": {},
   "outputs": [],
   "source": [
    "import os\n",
    "import rasterio as rio\n",
    "import numpy as np\n",
    "import shapely\n",
    "import pyproj\n",
    "import geopandas as gpd\n",
    "import matplotlib.pyplot as plt\n",
    "import rioxarray as riox\n",
    "import rasterio as rio\n",
    "import xarray as xr\n",
    "import netCDF4\n",
    "from osgeo import gdal\n",
    "import pandas as pd\n",
    "from datetime import datetime\n",
    "import dask.array\n",
    "\n",
    "import sys\n",
    "sys.path.append('../..')\n",
    "import snowFun"
   ]
  },
  {
   "cell_type": "code",
   "execution_count": 1,
   "id": "8d945ef0",
   "metadata": {},
   "outputs": [],
   "source": [
    "# define folder and file paths\n",
    "folder_AGVA = os.path.join('C:',os.sep,'Users','lzell','OneDrive - Colostate','Desktop',\"AGVA\")\n",
    "\n",
    "# open rgi\n",
    "path_rgi = os.path.join(folder_AGVA, 'RGI', \"01_rgi60_Alaska\", \"01_rgi60_Alaska.shp\")\n",
    "rgi_gdf = gpd.read_file(path_rgi).to_crs(\"EPSG:3338\")\n",
    "\n",
    "# open o3 region shapefile\n",
    "path_o3 = os.path.join(folder_AGVA, 'RGI', \"O3Regions\", \"O3Regions.shp\")\n",
    "o3_gdf = gpd.read_file(path_o3).to_crs(\"EPSG:3338\")"
   ]
  },
  {
   "cell_type": "code",
   "execution_count": 2,
   "id": "f735687d",
   "metadata": {},
   "outputs": [],
   "source": [
    "# subset to glaciers not in brooks range, greater than 2km\n",
    "rgi_gdf = rgi_gdf[rgi_gdf['Area']>=2]\n",
    "rgi_gdf = rgi_gdf[rgi_gdf['O2Region']!=\"1\"]"
   ]
  },
  {
   "cell_type": "code",
   "execution_count": 3,
   "id": "bd449656",
   "metadata": {},
   "outputs": [
    {
     "data": {
      "text/plain": [
       "<Axes: >"
      ]
     },
     "execution_count": 3,
     "metadata": {},
     "output_type": "execute_result"
    },
    {
     "data": {
      "image/png": "[encoded data removed]",
      "text/plain": [
       "<Figure size 640x480 with 1 Axes>"
      ]
     },
     "metadata": {},
     "output_type": "display_data"
    }
   ],
   "source": [
    "o3_gdf.plot()"
   ]
  },
  {
   "cell_type": "code",
   "execution_count": 4,
   "id": "22b10aa4",
   "metadata": {},
   "outputs": [],
   "source": [
    "def get_S2_subregion(rgi_geom):\n",
    "    \n",
    "    # find the subregion that intersects the rgi_geom\n",
    "    all_correct_subregion = o3_gdf[o3_gdf['geometry'].contains(rgi_geom.values[0])]#['id'].values[0]\n",
    "    \n",
    "    ### handling the cases of the overlapping rgi subregions\n",
    "    # if no overlap, then just return the single correct subregion\n",
    "    if len(all_correct_subregion)==1:\n",
    "        to_return = ( all_correct_subregion['id'].values[0], all_correct_subregion['Name'].values[0] )\n",
    "    \n",
    "    # else, contain the one whose intersection is largest\n",
    "    else:\n",
    "        \n",
    "        # find the subregions that intersect\n",
    "        intersections = o3_gdf.intersects(rgi_geom.values[0])\n",
    "        \n",
    "        # if none intersect, return nulls\n",
    "        if np.nansum(intersections)==0:\n",
    "            to_return = ( 0, \"NONE\")\n",
    "        \n",
    "        # else, find which has the largest intersection\n",
    "        else:\n",
    "            \n",
    "            possible = o3_gdf[intersections]\n",
    "            area1 = possible.geometry.iloc[0].intersection(rgi_geom.values[0]).area\n",
    "            area2 = possible.geometry.iloc[1].intersection(rgi_geom.values[0]).area\n",
    "            \n",
    "            if area1>area2:\n",
    "                to_return = (possible.iloc[0]['id'], possible.iloc[0]['Name'])\n",
    "            else:\n",
    "                to_return = (possible.iloc[1]['id'], possible.iloc[1]['Name'])\n",
    "                \n",
    "    return to_return"
   ]
  },
  {
   "cell_type": "code",
   "execution_count": 5,
   "id": "3b659616",
   "metadata": {},
   "outputs": [],
   "source": [
    "c=0\n",
    "all_rgis = [i for i in rgi_gdf['RGIId']]\n",
    "o3s = []\n",
    "names = []\n",
    "\n",
    "for i in all_rgis:\n",
    "\n",
    "    row = rgi_gdf[rgi_gdf['RGIId']==i]\n",
    "    test = get_S2_subregion(row.geometry)\n",
    "    o3s.append(test[0])\n",
    "    names.append(test[1])\n",
    "    c+=1\n",
    "    \n",
    "rgi_gdf['O3Region'] = o3s\n",
    "rgi_gdf['O3_name'] = names"
   ]
  },
  {
   "cell_type": "code",
   "execution_count": 6,
   "id": "9d37b901",
   "metadata": {},
   "outputs": [],
   "source": [
    "out_path = os.path.join(folder_AGVA, 'RGI', \"rgi_2km_o3regions\", \"rgi_2km_o3regions.shp\")\n",
    "rgi_gdf.to_file(out_path)"
   ]
  }
 ],
 "metadata": {
  "kernelspec": {
   "display_name": "Python 3 (ipykernel)",
   "language": "python",
   "name": "python3"
  },
  "language_info": {
   "codemirror_mode": {
    "name": "ipython",
    "version": 3
   },
   "file_extension": ".py",
   "mimetype": "text/x-python",
   "name": "python",
   "nbconvert_exporter": "python",
   "pygments_lexer": "ipython3",
   "version": "3.8.17"
  }
 },
 "nbformat": 4,
 "nbformat_minor": 5
}
