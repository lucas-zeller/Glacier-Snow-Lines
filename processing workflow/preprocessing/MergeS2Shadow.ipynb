{
 "cells": [
  {
   "cell_type": "code",
   "execution_count": 1,
   "metadata": {
    "colab": {
     "base_uri": "https://localhost:8080/"
    },
    "id": "7cG5nsGSxMKk",
    "outputId": "1bcf1f73-a7e6-4fc9-fd67-a2b8a718629a"
   },
   "outputs": [],
   "source": [
    "import os\n",
    "import matplotlib.pyplot as plt\n",
    "from osgeo import gdal\n",
    "import geopandas as gpd\n",
    "import pandas as pd\n",
    "import shutil"
   ]
  },
  {
   "cell_type": "markdown",
   "metadata": {
    "id": "2Mx0-IL9iuFJ"
   },
   "source": [
    "The goal of this script is to merge output geotiff shadow mask products from GEE into a single geotiff."
   ]
  },
  {
   "cell_type": "code",
   "execution_count": 2,
   "metadata": {
    "colab": {
     "base_uri": "https://localhost:8080/"
    },
    "id": "_7qfVk3emS2b",
    "outputId": "e1dd7847-c03a-4299-d9d1-b806752264b8"
   },
   "outputs": [],
   "source": [
    "# set folder paths for the raw and merged products\n",
    "folder_AGVA = os.path.join('C:',os.sep,'Users','lzell','OneDrive - Colostate','Desktop',\"AGVA\")\n",
    "raw_folder_path = os.path.join('C:',os.sep,'Users','lzell','Documents','shadows_to_merge')\n",
    "merged_folder_path = os.path.join('C:',os.sep,'Users','lzell','Documents','shadows_merged')\n",
    "\n",
    "# set path to RGI shapefile\n",
    "rgi_path = os.path.join(folder_AGVA, 'RGI', \"01_rgi60_Alaska\", \"01_rgi60_Alaska.shp\")\n",
    "\n",
    "# open rgi data, but drop the geometry column\n",
    "rgi_df = gpd.read_file(rgi_path, ignore_geometry=True)\n",
    "\n",
    "# print(rgi_df.head())"
   ]
  },
  {
   "cell_type": "code",
   "execution_count": 3,
   "metadata": {
    "colab": {
     "base_uri": "https://localhost:8080/"
    },
    "id": "uBMabnXPm0_3",
    "outputId": "3901581d-cbcd-4196-b7ac-7ccc59e8a570"
   },
   "outputs": [],
   "source": [
    "# compile list of all the image names in the raw folder, format as df\n",
    "raw_images_df = pd.DataFrame({\"file_name\":os.listdir(raw_folder_path)})\n",
    "\n",
    "# create column for rgi id, sort by this\n",
    "raw_images_df['RGIId'] = [i[3:17] for i in raw_images_df['file_name']]\n",
    "raw_images_df= raw_images_df.sort_values(by='RGIId', ascending=True)\n",
    "\n",
    "# now get list of the unique RGIIds\n",
    "unique_rgiids = raw_images_df['RGIId'].unique()\n",
    "\n",
    "# print(raw_images_df.head())\n",
    "# print(unique_rgiids[:40])"
   ]
  },
  {
   "cell_type": "code",
   "execution_count": 5,
   "metadata": {
    "colab": {
     "base_uri": "https://localhost:8080/"
    },
    "id": "TtfqONIPqCCO",
    "outputId": "d8d2ee03-532f-49e2-fdc3-7a5664eca7ee"
   },
   "outputs": [
    {
     "name": "stdout",
     "output_type": "stream",
     "text": [
      "0 of 1 - S2_RGI60-01.01390_2018-01-01_2023-01-01 is about to be mosaiced to destination. n=4\n"
     ]
    },
    {
     "name": "stderr",
     "output_type": "stream",
     "text": [
      "C:\\Users\\lzell\\anaconda3\\envs\\AGVA_env\\lib\\site-packages\\osgeo\\gdal.py:287: FutureWarning: Neither gdal.UseExceptions() nor gdal.DontUseExceptions() has been explicitly called. In GDAL 4.0, exceptions will be enabled by default.\n",
      "  warnings.warn(\n"
     ]
    },
    {
     "name": "stdout",
     "output_type": "stream",
     "text": [
      "mosaicing done\n"
     ]
    }
   ],
   "source": [
    "# now for RGIId, grab all the images of it and merge them\n",
    "\n",
    "# iterate through the list of unique rgiids\n",
    "for i in range(len(unique_rgiids)):\n",
    "    # print(f\"{i} of {len(unique_rgiids)}\")\n",
    "    # if i>0: continue\n",
    "\n",
    "    # get the RGIId\n",
    "    id_i = unique_rgiids[i]\n",
    "\n",
    "    # subset raw_images_df to the rows with this rgiid\n",
    "    subset_df = raw_images_df[raw_images_df['RGIId']==id_i]\n",
    "\n",
    "    # grab the image names\n",
    "    names_to_use = subset_df['file_name'].values\n",
    "\n",
    "    # make raw image names to paths\n",
    "#     image_paths = [f'{raw_folder_path}{i}' for i in names_to_use]\n",
    "    image_paths = [os.path.join(raw_folder_path, i) for i in names_to_use]\n",
    "    \n",
    "    # count the number of images that will be merged\n",
    "    n_images = len(names_to_use)\n",
    "\n",
    "    # define the path to save merged file to\n",
    "    out_name = names_to_use[0][:39]\n",
    "#     out_path = f'{merged_folder_path}{out_name}.tif'\n",
    "    out_path = os.path.join(merged_folder_path, f\"{out_name}.tif\")\n",
    "    \n",
    "    # check if this exists. if so, skip\n",
    "    if os.path.exists(out_path):\n",
    "        continue\n",
    "\n",
    "    # merge them with gdal. note that we also apply zstd compression to these, because they are the largest files\n",
    "    print(f\"{i} of {len(unique_rgiids)} - {out_name} is about to be mosaiced to destination. n={n_images}\")\n",
    "\n",
    "    # define path for vrt\n",
    "    vrt_path = f'{merged_folder_path}merged.vrt'\n",
    "\n",
    "    # do the mosaicing\n",
    "    vrt = gdal.BuildVRT(vrt_path, image_paths)\n",
    "    gdal.Translate(out_path, vrt, outputType=gdal.GDT_Byte, creationOptions = ['PREDICTOR=1','COMPRESS=ZSTD', 'ZSTD_LEVEL=1', \"TILED=TRUE\"])\n",
    "    print(\"mosaicing done\")\n",
    "\n",
    "    # remove vrt variable from memory, delete file\n",
    "    vrt = None #os.remove(vrt_path)\n"
   ]
  }
 ],
 "metadata": {
  "colab": {
   "authorship_tag": "ABX9TyNt95T2lYzk2Ss/8PbGVPo3",
   "include_colab_link": true,
   "provenance": []
  },
  "kernelspec": {
   "display_name": "Python 3 (ipykernel)",
   "language": "python",
   "name": "python3"
  },
  "language_info": {
   "codemirror_mode": {
    "name": "ipython",
    "version": 3
   },
   "file_extension": ".py",
   "mimetype": "text/x-python",
   "name": "python",
   "nbconvert_exporter": "python",
   "pygments_lexer": "ipython3",
   "version": "3.8.17"
  }
 },
 "nbformat": 4,
 "nbformat_minor": 1
}
