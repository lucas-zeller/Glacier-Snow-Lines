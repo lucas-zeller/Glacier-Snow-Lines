{
 "cells": [
  {
   "cell_type": "code",
   "execution_count": 1,
   "id": "ed27064c",
   "metadata": {},
   "outputs": [],
   "source": [
    "import os\n",
    "import rasterio as rio\n",
    "import numpy as np\n",
    "import shapely\n",
    "import pyproj\n",
    "import geopandas as gpd\n",
    "import matplotlib.pyplot as plt\n",
    "import rioxarray as riox\n",
    "import rasterio as rio\n",
    "import xarray as xr\n",
    "import netCDF4\n",
    "from osgeo import gdal\n",
    "import pandas as pd\n",
    "from datetime import datetime\n",
    "import dask.array\n",
    "import sklearn\n",
    "from sklearn.linear_model import LinearRegression\n",
    "\n",
    "import sys\n",
    "sys.path.append('../')\n",
    "import snowFun"
   ]
  },
  {
   "cell_type": "code",
   "execution_count": 2,
   "id": "8d945ef0",
   "metadata": {},
   "outputs": [],
   "source": [
    "# define folder and file paths\n",
    "folder_AGVA = os.path.join('C:',os.sep,'Users','lzell','OneDrive - Colostate','Desktop',\"AGVA\")\n",
    "folder_dems = os.path.join(folder_AGVA, \"DEMs\", \"time_varying_DEMs\", \"10m\")\n",
    "folder_class = os.path.join(folder_AGVA, 'classified images', 'S2_Classified_Cloudmasked_Merged')\n",
    "folder_cloud = os.path.join(folder_AGVA, 'classified images', 'S2_Cloud_Merged')\n",
    "folder_meta = os.path.join(folder_AGVA, \"classified images\", \"meta csv\", \"S2\")\n",
    "folder_mask = os.path.join(folder_AGVA, 'Derived products', 'S2', 'Masks')\n",
    "\n",
    "# open rgi\n",
    "path_rgi = os.path.join(folder_AGVA, 'RGI', \"rgi_2km_o3regions\", \"rgi_2km_o3regions.shp\")\n",
    "rgi_gdf = gpd.read_file(path_rgi, drop='geometry')"
   ]
  },
  {
   "cell_type": "code",
   "execution_count": 3,
   "id": "f735687d",
   "metadata": {},
   "outputs": [
    {
     "name": "stdout",
     "output_type": "stream",
     "text": [
      "45\n"
     ]
    }
   ],
   "source": [
    "### choose if you want to do only the 45 validation glaciers\n",
    "validation_only = 1\n",
    "\n",
    "# open list of validation glaciers\n",
    "all_validation_df = pd.read_csv(os.path.join(folder_AGVA, 'Validation', 'Validation Glaciers.csv'))\n",
    "\n",
    "### get list of all the glaciers for which we have calculated the snow covered fractions\n",
    "# select which rgis to analyze\n",
    "if validation_only:\n",
    "    folder_ela = os.path.join(folder_AGVA, 'Derived products', 'S2', 'Validation', 'ELAs')\n",
    "    folder_save = os.path.join(folder_AGVA, 'Derived products', 'S2', 'Validation')\n",
    "else:\n",
    "    folder_sca = os.path.join(folder_AGVA, 'Derived products', 'S2', 'ELAs')\n",
    "    folder_save = os.path.join(folder_AGVA, 'Derived products', 'S2')\n",
    "\n",
    "# load rgi names that have been saved to the classified folder\n",
    "rgis_to_analyze = list(set( [ i[:14] for i in os.listdir(folder_ela) if i!='merged.vrt' ] ))\n",
    "# rgis_to_analyze.sort()\n",
    "\n",
    "# get list of glacier area for each rgi\n",
    "areas = [rgi_gdf[rgi_gdf['RGIId']==i]['Area'].values for i in rgis_to_analyze]\n",
    "\n",
    "# make df\n",
    "rgis_to_analyze_df = pd.DataFrame({\"RGIId\":rgis_to_analyze, 'Area':areas})\n",
    "\n",
    "# sort however you want\n",
    "rgis_to_analyze_df = rgis_to_analyze_df.sort_values('Area')\n",
    "\n",
    "# grab rgi names\n",
    "rgis_to_analyze = rgis_to_analyze_df['RGIId'].values\n",
    "\n",
    "print(len(rgis_to_analyze_df))\n",
    "# print(rgis_to_analyze[:10])\n",
    "# print(rgis_to_analyze_df[:10])"
   ]
  },
  {
   "cell_type": "code",
   "execution_count": 4,
   "id": "920b561e",
   "metadata": {},
   "outputs": [
    {
     "name": "stdout",
     "output_type": "stream",
     "text": [
      "\n",
      "Starting 1 of 45: RGI60-01.10910  2.084 km2\n"
     ]
    },
    {
     "name": "stderr",
     "output_type": "stream",
     "text": [
      "C:\\Users\\lzell\\anaconda3\\envs\\AGVA_env\\lib\\site-packages\\dask\\array\\chunk.py:276: RuntimeWarning: invalid value encountered in cast\n",
      "  return x.astype(astype_dtype, **kwargs)\n",
      "C:\\Users\\lzell\\anaconda3\\envs\\AGVA_env\\lib\\site-packages\\numpy\\lib\\nanfunctions.py:1217: RuntimeWarning: All-NaN slice encountered\n",
      "  return function_base._ureduce(a, func=_nanmedian, keepdims=keepdims,\n"
     ]
    },
    {
     "name": "stdout",
     "output_type": "stream",
     "text": [
      "\n",
      "Starting 2 of 45: RGI60-01.00787  2.126 km2\n"
     ]
    },
    {
     "name": "stderr",
     "output_type": "stream",
     "text": [
      "C:\\Users\\lzell\\anaconda3\\envs\\AGVA_env\\lib\\site-packages\\dask\\array\\chunk.py:276: RuntimeWarning: invalid value encountered in cast\n",
      "  return x.astype(astype_dtype, **kwargs)\n",
      "C:\\Users\\lzell\\anaconda3\\envs\\AGVA_env\\lib\\site-packages\\numpy\\lib\\nanfunctions.py:1217: RuntimeWarning: All-NaN slice encountered\n",
      "  return function_base._ureduce(a, func=_nanmedian, keepdims=keepdims,\n"
     ]
    },
    {
     "name": "stdout",
     "output_type": "stream",
     "text": [
      "\n",
      "Starting 3 of 45: RGI60-01.23606  2.344 km2\n"
     ]
    },
    {
     "name": "stderr",
     "output_type": "stream",
     "text": [
      "C:\\Users\\lzell\\anaconda3\\envs\\AGVA_env\\lib\\site-packages\\dask\\array\\chunk.py:276: RuntimeWarning: invalid value encountered in cast\n",
      "  return x.astype(astype_dtype, **kwargs)\n",
      "C:\\Users\\lzell\\anaconda3\\envs\\AGVA_env\\lib\\site-packages\\numpy\\lib\\nanfunctions.py:1217: RuntimeWarning: All-NaN slice encountered\n",
      "  return function_base._ureduce(a, func=_nanmedian, keepdims=keepdims,\n"
     ]
    },
    {
     "name": "stdout",
     "output_type": "stream",
     "text": [
      "\n",
      "Starting 4 of 45: RGI60-01.15253  2.551 km2\n"
     ]
    },
    {
     "name": "stderr",
     "output_type": "stream",
     "text": [
      "C:\\Users\\lzell\\anaconda3\\envs\\AGVA_env\\lib\\site-packages\\dask\\array\\chunk.py:276: RuntimeWarning: invalid value encountered in cast\n",
      "  return x.astype(astype_dtype, **kwargs)\n",
      "C:\\Users\\lzell\\anaconda3\\envs\\AGVA_env\\lib\\site-packages\\numpy\\lib\\nanfunctions.py:1217: RuntimeWarning: All-NaN slice encountered\n",
      "  return function_base._ureduce(a, func=_nanmedian, keepdims=keepdims,\n"
     ]
    },
    {
     "name": "stdout",
     "output_type": "stream",
     "text": [
      "\n",
      "Starting 5 of 45: RGI60-01.03379  2.578 km2\n"
     ]
    },
    {
     "name": "stderr",
     "output_type": "stream",
     "text": [
      "C:\\Users\\lzell\\anaconda3\\envs\\AGVA_env\\lib\\site-packages\\dask\\array\\chunk.py:276: RuntimeWarning: invalid value encountered in cast\n",
      "  return x.astype(astype_dtype, **kwargs)\n",
      "C:\\Users\\lzell\\anaconda3\\envs\\AGVA_env\\lib\\site-packages\\numpy\\lib\\nanfunctions.py:1217: RuntimeWarning: All-NaN slice encountered\n",
      "  return function_base._ureduce(a, func=_nanmedian, keepdims=keepdims,\n"
     ]
    },
    {
     "name": "stdout",
     "output_type": "stream",
     "text": [
      "\n",
      "Starting 6 of 45: RGI60-01.16719  2.681 km2\n"
     ]
    },
    {
     "name": "stderr",
     "output_type": "stream",
     "text": [
      "C:\\Users\\lzell\\anaconda3\\envs\\AGVA_env\\lib\\site-packages\\dask\\array\\chunk.py:276: RuntimeWarning: invalid value encountered in cast\n",
      "  return x.astype(astype_dtype, **kwargs)\n",
      "C:\\Users\\lzell\\anaconda3\\envs\\AGVA_env\\lib\\site-packages\\numpy\\lib\\nanfunctions.py:1217: RuntimeWarning: All-NaN slice encountered\n",
      "  return function_base._ureduce(a, func=_nanmedian, keepdims=keepdims,\n"
     ]
    },
    {
     "name": "stdout",
     "output_type": "stream",
     "text": [
      "\n",
      "Starting 7 of 45: RGI60-01.17321  2.88 km2\n"
     ]
    },
    {
     "name": "stderr",
     "output_type": "stream",
     "text": [
      "C:\\Users\\lzell\\anaconda3\\envs\\AGVA_env\\lib\\site-packages\\dask\\array\\chunk.py:276: RuntimeWarning: invalid value encountered in cast\n",
      "  return x.astype(astype_dtype, **kwargs)\n",
      "C:\\Users\\lzell\\anaconda3\\envs\\AGVA_env\\lib\\site-packages\\numpy\\lib\\nanfunctions.py:1217: RuntimeWarning: All-NaN slice encountered\n",
      "  return function_base._ureduce(a, func=_nanmedian, keepdims=keepdims,\n"
     ]
    },
    {
     "name": "stdout",
     "output_type": "stream",
     "text": [
      "\n",
      "Starting 8 of 45: RGI60-01.13462  3.206 km2\n"
     ]
    },
    {
     "name": "stderr",
     "output_type": "stream",
     "text": [
      "C:\\Users\\lzell\\anaconda3\\envs\\AGVA_env\\lib\\site-packages\\dask\\array\\chunk.py:276: RuntimeWarning: invalid value encountered in cast\n",
      "  return x.astype(astype_dtype, **kwargs)\n",
      "C:\\Users\\lzell\\anaconda3\\envs\\AGVA_env\\lib\\site-packages\\numpy\\lib\\nanfunctions.py:1217: RuntimeWarning: All-NaN slice encountered\n",
      "  return function_base._ureduce(a, func=_nanmedian, keepdims=keepdims,\n"
     ]
    },
    {
     "name": "stdout",
     "output_type": "stream",
     "text": [
      "\n",
      "Starting 9 of 45: RGI60-01.13483  3.216 km2\n"
     ]
    },
    {
     "name": "stderr",
     "output_type": "stream",
     "text": [
      "C:\\Users\\lzell\\anaconda3\\envs\\AGVA_env\\lib\\site-packages\\dask\\array\\chunk.py:276: RuntimeWarning: invalid value encountered in cast\n",
      "  return x.astype(astype_dtype, **kwargs)\n",
      "C:\\Users\\lzell\\anaconda3\\envs\\AGVA_env\\lib\\site-packages\\numpy\\lib\\nanfunctions.py:1217: RuntimeWarning: All-NaN slice encountered\n",
      "  return function_base._ureduce(a, func=_nanmedian, keepdims=keepdims,\n"
     ]
    },
    {
     "name": "stdout",
     "output_type": "stream",
     "text": [
      "\n",
      "Starting 10 of 45: RGI60-01.02584  3.441 km2\n"
     ]
    },
    {
     "name": "stderr",
     "output_type": "stream",
     "text": [
      "C:\\Users\\lzell\\anaconda3\\envs\\AGVA_env\\lib\\site-packages\\dask\\array\\chunk.py:276: RuntimeWarning: invalid value encountered in cast\n",
      "  return x.astype(astype_dtype, **kwargs)\n",
      "C:\\Users\\lzell\\anaconda3\\envs\\AGVA_env\\lib\\site-packages\\numpy\\lib\\nanfunctions.py:1217: RuntimeWarning: All-NaN slice encountered\n",
      "  return function_base._ureduce(a, func=_nanmedian, keepdims=keepdims,\n"
     ]
    },
    {
     "name": "stdout",
     "output_type": "stream",
     "text": [
      "\n",
      "Starting 11 of 45: RGI60-01.03215  3.998 km2\n"
     ]
    },
    {
     "name": "stderr",
     "output_type": "stream",
     "text": [
      "C:\\Users\\lzell\\anaconda3\\envs\\AGVA_env\\lib\\site-packages\\dask\\array\\chunk.py:276: RuntimeWarning: invalid value encountered in cast\n",
      "  return x.astype(astype_dtype, **kwargs)\n",
      "C:\\Users\\lzell\\anaconda3\\envs\\AGVA_env\\lib\\site-packages\\numpy\\lib\\nanfunctions.py:1217: RuntimeWarning: All-NaN slice encountered\n",
      "  return function_base._ureduce(a, func=_nanmedian, keepdims=keepdims,\n"
     ]
    },
    {
     "name": "stdout",
     "output_type": "stream",
     "text": [
      "\n",
      "Starting 12 of 45: RGI60-01.01666  4.243 km2\n"
     ]
    },
    {
     "name": "stderr",
     "output_type": "stream",
     "text": [
      "C:\\Users\\lzell\\anaconda3\\envs\\AGVA_env\\lib\\site-packages\\dask\\array\\chunk.py:276: RuntimeWarning: invalid value encountered in cast\n",
      "  return x.astype(astype_dtype, **kwargs)\n",
      "C:\\Users\\lzell\\anaconda3\\envs\\AGVA_env\\lib\\site-packages\\numpy\\lib\\nanfunctions.py:1217: RuntimeWarning: All-NaN slice encountered\n",
      "  return function_base._ureduce(a, func=_nanmedian, keepdims=keepdims,\n"
     ]
    },
    {
     "name": "stdout",
     "output_type": "stream",
     "text": [
      "\n",
      "Starting 13 of 45: RGI60-01.12548  4.314 km2\n"
     ]
    },
    {
     "name": "stderr",
     "output_type": "stream",
     "text": [
      "C:\\Users\\lzell\\anaconda3\\envs\\AGVA_env\\lib\\site-packages\\dask\\array\\chunk.py:276: RuntimeWarning: invalid value encountered in cast\n",
      "  return x.astype(astype_dtype, **kwargs)\n",
      "C:\\Users\\lzell\\anaconda3\\envs\\AGVA_env\\lib\\site-packages\\numpy\\lib\\nanfunctions.py:1217: RuntimeWarning: All-NaN slice encountered\n",
      "  return function_base._ureduce(a, func=_nanmedian, keepdims=keepdims,\n"
     ]
    },
    {
     "name": "stdout",
     "output_type": "stream",
     "text": [
      "\n",
      "Starting 14 of 45: RGI60-01.13930  4.404 km2\n"
     ]
    },
    {
     "name": "stderr",
     "output_type": "stream",
     "text": [
      "C:\\Users\\lzell\\anaconda3\\envs\\AGVA_env\\lib\\site-packages\\dask\\array\\chunk.py:276: RuntimeWarning: invalid value encountered in cast\n",
      "  return x.astype(astype_dtype, **kwargs)\n",
      "C:\\Users\\lzell\\anaconda3\\envs\\AGVA_env\\lib\\site-packages\\numpy\\lib\\nanfunctions.py:1217: RuntimeWarning: All-NaN slice encountered\n",
      "  return function_base._ureduce(a, func=_nanmedian, keepdims=keepdims,\n"
     ]
    },
    {
     "name": "stdout",
     "output_type": "stream",
     "text": [
      "\n",
      "Starting 15 of 45: RGI60-01.09624  4.487 km2\n"
     ]
    },
    {
     "name": "stderr",
     "output_type": "stream",
     "text": [
      "C:\\Users\\lzell\\anaconda3\\envs\\AGVA_env\\lib\\site-packages\\dask\\array\\chunk.py:276: RuntimeWarning: invalid value encountered in cast\n",
      "  return x.astype(astype_dtype, **kwargs)\n",
      "C:\\Users\\lzell\\anaconda3\\envs\\AGVA_env\\lib\\site-packages\\numpy\\lib\\nanfunctions.py:1217: RuntimeWarning: All-NaN slice encountered\n",
      "  return function_base._ureduce(a, func=_nanmedian, keepdims=keepdims,\n"
     ]
    },
    {
     "name": "stdout",
     "output_type": "stream",
     "text": [
      "\n",
      "Starting 16 of 45: RGI60-01.15516  4.764 km2\n"
     ]
    },
    {
     "name": "stderr",
     "output_type": "stream",
     "text": [
      "C:\\Users\\lzell\\anaconda3\\envs\\AGVA_env\\lib\\site-packages\\dask\\array\\chunk.py:276: RuntimeWarning: invalid value encountered in cast\n",
      "  return x.astype(astype_dtype, **kwargs)\n",
      "C:\\Users\\lzell\\anaconda3\\envs\\AGVA_env\\lib\\site-packages\\numpy\\lib\\nanfunctions.py:1217: RuntimeWarning: All-NaN slice encountered\n",
      "  return function_base._ureduce(a, func=_nanmedian, keepdims=keepdims,\n"
     ]
    },
    {
     "name": "stdout",
     "output_type": "stream",
     "text": [
      "\n",
      "Starting 17 of 45: RGI60-01.21721  6.422 km2\n"
     ]
    },
    {
     "name": "stderr",
     "output_type": "stream",
     "text": [
      "C:\\Users\\lzell\\anaconda3\\envs\\AGVA_env\\lib\\site-packages\\dask\\array\\chunk.py:276: RuntimeWarning: invalid value encountered in cast\n",
      "  return x.astype(astype_dtype, **kwargs)\n",
      "C:\\Users\\lzell\\anaconda3\\envs\\AGVA_env\\lib\\site-packages\\numpy\\lib\\nanfunctions.py:1217: RuntimeWarning: All-NaN slice encountered\n",
      "  return function_base._ureduce(a, func=_nanmedian, keepdims=keepdims,\n"
     ]
    },
    {
     "name": "stdout",
     "output_type": "stream",
     "text": [
      "\n",
      "Starting 18 of 45: RGI60-01.10255  7.262 km2\n"
     ]
    },
    {
     "name": "stderr",
     "output_type": "stream",
     "text": [
      "C:\\Users\\lzell\\anaconda3\\envs\\AGVA_env\\lib\\site-packages\\dask\\array\\chunk.py:276: RuntimeWarning: invalid value encountered in cast\n",
      "  return x.astype(astype_dtype, **kwargs)\n",
      "C:\\Users\\lzell\\anaconda3\\envs\\AGVA_env\\lib\\site-packages\\numpy\\lib\\nanfunctions.py:1217: RuntimeWarning: All-NaN slice encountered\n",
      "  return function_base._ureduce(a, func=_nanmedian, keepdims=keepdims,\n"
     ]
    },
    {
     "name": "stdout",
     "output_type": "stream",
     "text": [
      "\n",
      "Starting 19 of 45: RGI60-01.12165  7.969 km2\n"
     ]
    },
    {
     "name": "stderr",
     "output_type": "stream",
     "text": [
      "C:\\Users\\lzell\\anaconda3\\envs\\AGVA_env\\lib\\site-packages\\dask\\array\\chunk.py:276: RuntimeWarning: invalid value encountered in cast\n",
      "  return x.astype(astype_dtype, **kwargs)\n",
      "C:\\Users\\lzell\\anaconda3\\envs\\AGVA_env\\lib\\site-packages\\numpy\\lib\\nanfunctions.py:1217: RuntimeWarning: All-NaN slice encountered\n",
      "  return function_base._ureduce(a, func=_nanmedian, keepdims=keepdims,\n"
     ]
    },
    {
     "name": "stdout",
     "output_type": "stream",
     "text": [
      "\n",
      "Starting 20 of 45: RGI60-01.05007  9.216 km2\n"
     ]
    },
    {
     "name": "stderr",
     "output_type": "stream",
     "text": [
      "C:\\Users\\lzell\\anaconda3\\envs\\AGVA_env\\lib\\site-packages\\dask\\array\\chunk.py:276: RuntimeWarning: invalid value encountered in cast\n",
      "  return x.astype(astype_dtype, **kwargs)\n",
      "C:\\Users\\lzell\\anaconda3\\envs\\AGVA_env\\lib\\site-packages\\numpy\\lib\\nanfunctions.py:1217: RuntimeWarning: All-NaN slice encountered\n",
      "  return function_base._ureduce(a, func=_nanmedian, keepdims=keepdims,\n"
     ]
    },
    {
     "name": "stdout",
     "output_type": "stream",
     "text": [
      "\n",
      "Starting 21 of 45: RGI60-01.01104  9.528 km2\n"
     ]
    },
    {
     "name": "stderr",
     "output_type": "stream",
     "text": [
      "C:\\Users\\lzell\\anaconda3\\envs\\AGVA_env\\lib\\site-packages\\dask\\array\\chunk.py:276: RuntimeWarning: invalid value encountered in cast\n",
      "  return x.astype(astype_dtype, **kwargs)\n",
      "C:\\Users\\lzell\\anaconda3\\envs\\AGVA_env\\lib\\site-packages\\numpy\\lib\\nanfunctions.py:1217: RuntimeWarning: All-NaN slice encountered\n",
      "  return function_base._ureduce(a, func=_nanmedian, keepdims=keepdims,\n"
     ]
    },
    {
     "name": "stdout",
     "output_type": "stream",
     "text": [
      "\n",
      "Starting 22 of 45: RGI60-01.12186  11.05 km2\n"
     ]
    },
    {
     "name": "stderr",
     "output_type": "stream",
     "text": [
      "C:\\Users\\lzell\\anaconda3\\envs\\AGVA_env\\lib\\site-packages\\dask\\array\\chunk.py:276: RuntimeWarning: invalid value encountered in cast\n",
      "  return x.astype(astype_dtype, **kwargs)\n",
      "C:\\Users\\lzell\\anaconda3\\envs\\AGVA_env\\lib\\site-packages\\numpy\\lib\\nanfunctions.py:1217: RuntimeWarning: All-NaN slice encountered\n",
      "  return function_base._ureduce(a, func=_nanmedian, keepdims=keepdims,\n"
     ]
    },
    {
     "name": "stdout",
     "output_type": "stream",
     "text": [
      "\n",
      "Starting 23 of 45: RGI60-01.09656  13.791 km2\n"
     ]
    },
    {
     "name": "stderr",
     "output_type": "stream",
     "text": [
      "C:\\Users\\lzell\\anaconda3\\envs\\AGVA_env\\lib\\site-packages\\dask\\array\\chunk.py:276: RuntimeWarning: invalid value encountered in cast\n",
      "  return x.astype(astype_dtype, **kwargs)\n",
      "C:\\Users\\lzell\\anaconda3\\envs\\AGVA_env\\lib\\site-packages\\numpy\\lib\\nanfunctions.py:1217: RuntimeWarning: All-NaN slice encountered\n",
      "  return function_base._ureduce(a, func=_nanmedian, keepdims=keepdims,\n"
     ]
    },
    {
     "name": "stdout",
     "output_type": "stream",
     "text": [
      "\n",
      "Starting 24 of 45: RGI60-01.17784  14.773 km2\n"
     ]
    },
    {
     "name": "stderr",
     "output_type": "stream",
     "text": [
      "C:\\Users\\lzell\\anaconda3\\envs\\AGVA_env\\lib\\site-packages\\dask\\array\\chunk.py:276: RuntimeWarning: invalid value encountered in cast\n",
      "  return x.astype(astype_dtype, **kwargs)\n",
      "C:\\Users\\lzell\\anaconda3\\envs\\AGVA_env\\lib\\site-packages\\numpy\\lib\\nanfunctions.py:1217: RuntimeWarning: All-NaN slice encountered\n",
      "  return function_base._ureduce(a, func=_nanmedian, keepdims=keepdims,\n"
     ]
    },
    {
     "name": "stdout",
     "output_type": "stream",
     "text": [
      "\n",
      "Starting 25 of 45: RGI60-01.14493  15.336 km2\n"
     ]
    },
    {
     "name": "stderr",
     "output_type": "stream",
     "text": [
      "C:\\Users\\lzell\\anaconda3\\envs\\AGVA_env\\lib\\site-packages\\dask\\array\\chunk.py:276: RuntimeWarning: invalid value encountered in cast\n",
      "  return x.astype(astype_dtype, **kwargs)\n",
      "C:\\Users\\lzell\\anaconda3\\envs\\AGVA_env\\lib\\site-packages\\numpy\\lib\\nanfunctions.py:1217: RuntimeWarning: All-NaN slice encountered\n",
      "  return function_base._ureduce(a, func=_nanmedian, keepdims=keepdims,\n"
     ]
    },
    {
     "name": "stdout",
     "output_type": "stream",
     "text": [
      "\n",
      "Starting 26 of 45: RGI60-01.23643  15.732 km2\n"
     ]
    },
    {
     "name": "stderr",
     "output_type": "stream",
     "text": [
      "C:\\Users\\lzell\\anaconda3\\envs\\AGVA_env\\lib\\site-packages\\dask\\array\\chunk.py:276: RuntimeWarning: invalid value encountered in cast\n",
      "  return x.astype(astype_dtype, **kwargs)\n",
      "C:\\Users\\lzell\\anaconda3\\envs\\AGVA_env\\lib\\site-packages\\numpy\\lib\\nanfunctions.py:1217: RuntimeWarning: All-NaN slice encountered\n",
      "  return function_base._ureduce(a, func=_nanmedian, keepdims=keepdims,\n"
     ]
    },
    {
     "name": "stdout",
     "output_type": "stream",
     "text": [
      "\n",
      "Starting 27 of 45: RGI60-01.01270  16.163 km2\n"
     ]
    },
    {
     "name": "stderr",
     "output_type": "stream",
     "text": [
      "C:\\Users\\lzell\\anaconda3\\envs\\AGVA_env\\lib\\site-packages\\dask\\array\\chunk.py:276: RuntimeWarning: invalid value encountered in cast\n",
      "  return x.astype(astype_dtype, **kwargs)\n",
      "C:\\Users\\lzell\\anaconda3\\envs\\AGVA_env\\lib\\site-packages\\numpy\\lib\\nanfunctions.py:1217: RuntimeWarning: All-NaN slice encountered\n",
      "  return function_base._ureduce(a, func=_nanmedian, keepdims=keepdims,\n"
     ]
    },
    {
     "name": "stdout",
     "output_type": "stream",
     "text": [
      "\n",
      "Starting 28 of 45: RGI60-01.09162  16.749 km2\n"
     ]
    },
    {
     "name": "stderr",
     "output_type": "stream",
     "text": [
      "C:\\Users\\lzell\\anaconda3\\envs\\AGVA_env\\lib\\site-packages\\dask\\array\\chunk.py:276: RuntimeWarning: invalid value encountered in cast\n",
      "  return x.astype(astype_dtype, **kwargs)\n",
      "C:\\Users\\lzell\\anaconda3\\envs\\AGVA_env\\lib\\site-packages\\numpy\\lib\\nanfunctions.py:1217: RuntimeWarning: All-NaN slice encountered\n",
      "  return function_base._ureduce(a, func=_nanmedian, keepdims=keepdims,\n"
     ]
    },
    {
     "name": "stdout",
     "output_type": "stream",
     "text": [
      "\n",
      "Starting 29 of 45: RGI60-01.05078  17.259 km2\n"
     ]
    },
    {
     "name": "stderr",
     "output_type": "stream",
     "text": [
      "C:\\Users\\lzell\\anaconda3\\envs\\AGVA_env\\lib\\site-packages\\dask\\array\\chunk.py:276: RuntimeWarning: invalid value encountered in cast\n",
      "  return x.astype(astype_dtype, **kwargs)\n",
      "C:\\Users\\lzell\\anaconda3\\envs\\AGVA_env\\lib\\site-packages\\numpy\\lib\\nanfunctions.py:1217: RuntimeWarning: All-NaN slice encountered\n",
      "  return function_base._ureduce(a, func=_nanmedian, keepdims=keepdims,\n"
     ]
    },
    {
     "name": "stdout",
     "output_type": "stream",
     "text": [
      "\n",
      "Starting 30 of 45: RGI60-01.00570  17.567 km2\n"
     ]
    },
    {
     "name": "stderr",
     "output_type": "stream",
     "text": [
      "C:\\Users\\lzell\\anaconda3\\envs\\AGVA_env\\lib\\site-packages\\dask\\array\\chunk.py:276: RuntimeWarning: invalid value encountered in cast\n",
      "  return x.astype(astype_dtype, **kwargs)\n",
      "C:\\Users\\lzell\\anaconda3\\envs\\AGVA_env\\lib\\site-packages\\numpy\\lib\\nanfunctions.py:1217: RuntimeWarning: All-NaN slice encountered\n",
      "  return function_base._ureduce(a, func=_nanmedian, keepdims=keepdims,\n"
     ]
    },
    {
     "name": "stdout",
     "output_type": "stream",
     "text": [
      "\n",
      "Starting 31 of 45: RGI60-01.00557  18.042 km2\n"
     ]
    },
    {
     "name": "stderr",
     "output_type": "stream",
     "text": [
      "C:\\Users\\lzell\\anaconda3\\envs\\AGVA_env\\lib\\site-packages\\dask\\array\\chunk.py:276: RuntimeWarning: invalid value encountered in cast\n",
      "  return x.astype(astype_dtype, **kwargs)\n",
      "C:\\Users\\lzell\\anaconda3\\envs\\AGVA_env\\lib\\site-packages\\numpy\\lib\\nanfunctions.py:1217: RuntimeWarning: All-NaN slice encountered\n",
      "  return function_base._ureduce(a, func=_nanmedian, keepdims=keepdims,\n"
     ]
    },
    {
     "name": "stdout",
     "output_type": "stream",
     "text": [
      "\n",
      "Starting 32 of 45: RGI60-01.09216  18.634 km2\n"
     ]
    },
    {
     "name": "stderr",
     "output_type": "stream",
     "text": [
      "C:\\Users\\lzell\\anaconda3\\envs\\AGVA_env\\lib\\site-packages\\dask\\array\\chunk.py:276: RuntimeWarning: invalid value encountered in cast\n",
      "  return x.astype(astype_dtype, **kwargs)\n",
      "C:\\Users\\lzell\\anaconda3\\envs\\AGVA_env\\lib\\site-packages\\numpy\\lib\\nanfunctions.py:1217: RuntimeWarning: All-NaN slice encountered\n",
      "  return function_base._ureduce(a, func=_nanmedian, keepdims=keepdims,\n"
     ]
    },
    {
     "name": "stdout",
     "output_type": "stream",
     "text": [
      "\n",
      "Starting 33 of 45: RGI60-01.26731  20.207 km2\n"
     ]
    },
    {
     "name": "stderr",
     "output_type": "stream",
     "text": [
      "C:\\Users\\lzell\\anaconda3\\envs\\AGVA_env\\lib\\site-packages\\dask\\array\\chunk.py:276: RuntimeWarning: invalid value encountered in cast\n",
      "  return x.astype(astype_dtype, **kwargs)\n",
      "C:\\Users\\lzell\\anaconda3\\envs\\AGVA_env\\lib\\site-packages\\numpy\\lib\\nanfunctions.py:1217: RuntimeWarning: All-NaN slice encountered\n",
      "  return function_base._ureduce(a, func=_nanmedian, keepdims=keepdims,\n"
     ]
    },
    {
     "name": "stdout",
     "output_type": "stream",
     "text": [
      "\n",
      "Starting 34 of 45: RGI60-01.00565  23.06 km2\n"
     ]
    },
    {
     "name": "stderr",
     "output_type": "stream",
     "text": [
      "C:\\Users\\lzell\\anaconda3\\envs\\AGVA_env\\lib\\site-packages\\dask\\array\\chunk.py:276: RuntimeWarning: invalid value encountered in cast\n",
      "  return x.astype(astype_dtype, **kwargs)\n",
      "C:\\Users\\lzell\\anaconda3\\envs\\AGVA_env\\lib\\site-packages\\numpy\\lib\\nanfunctions.py:1217: RuntimeWarning: All-NaN slice encountered\n",
      "  return function_base._ureduce(a, func=_nanmedian, keepdims=keepdims,\n"
     ]
    },
    {
     "name": "stdout",
     "output_type": "stream",
     "text": [
      "\n",
      "Starting 35 of 45: RGI60-01.08989  29.395 km2\n"
     ]
    },
    {
     "name": "stderr",
     "output_type": "stream",
     "text": [
      "C:\\Users\\lzell\\anaconda3\\envs\\AGVA_env\\lib\\site-packages\\dask\\array\\chunk.py:276: RuntimeWarning: invalid value encountered in cast\n",
      "  return x.astype(astype_dtype, **kwargs)\n",
      "C:\\Users\\lzell\\anaconda3\\envs\\AGVA_env\\lib\\site-packages\\numpy\\lib\\nanfunctions.py:1217: RuntimeWarning: All-NaN slice encountered\n",
      "  return function_base._ureduce(a, func=_nanmedian, keepdims=keepdims,\n"
     ]
    },
    {
     "name": "stdout",
     "output_type": "stream",
     "text": [
      "\n",
      "Starting 36 of 45: RGI60-01.16166  29.932 km2\n"
     ]
    },
    {
     "name": "stderr",
     "output_type": "stream",
     "text": [
      "C:\\Users\\lzell\\anaconda3\\envs\\AGVA_env\\lib\\site-packages\\dask\\array\\chunk.py:276: RuntimeWarning: invalid value encountered in cast\n",
      "  return x.astype(astype_dtype, **kwargs)\n",
      "C:\\Users\\lzell\\anaconda3\\envs\\AGVA_env\\lib\\site-packages\\numpy\\lib\\nanfunctions.py:1217: RuntimeWarning: All-NaN slice encountered\n",
      "  return function_base._ureduce(a, func=_nanmedian, keepdims=keepdims,\n"
     ]
    },
    {
     "name": "stdout",
     "output_type": "stream",
     "text": [
      "\n",
      "Starting 37 of 45: RGI60-01.15731  40.009 km2\n"
     ]
    },
    {
     "name": "stderr",
     "output_type": "stream",
     "text": [
      "C:\\Users\\lzell\\anaconda3\\envs\\AGVA_env\\lib\\site-packages\\dask\\array\\chunk.py:276: RuntimeWarning: invalid value encountered in cast\n",
      "  return x.astype(astype_dtype, **kwargs)\n",
      "C:\\Users\\lzell\\anaconda3\\envs\\AGVA_env\\lib\\site-packages\\numpy\\lib\\nanfunctions.py:1217: RuntimeWarning: All-NaN slice encountered\n",
      "  return function_base._ureduce(a, func=_nanmedian, keepdims=keepdims,\n"
     ]
    },
    {
     "name": "stdout",
     "output_type": "stream",
     "text": [
      "\n",
      "Starting 38 of 45: RGI60-01.09798  41.785 km2\n"
     ]
    },
    {
     "name": "stderr",
     "output_type": "stream",
     "text": [
      "C:\\Users\\lzell\\anaconda3\\envs\\AGVA_env\\lib\\site-packages\\dask\\array\\chunk.py:276: RuntimeWarning: invalid value encountered in cast\n",
      "  return x.astype(astype_dtype, **kwargs)\n",
      "C:\\Users\\lzell\\anaconda3\\envs\\AGVA_env\\lib\\site-packages\\numpy\\lib\\nanfunctions.py:1217: RuntimeWarning: All-NaN slice encountered\n",
      "  return function_base._ureduce(a, func=_nanmedian, keepdims=keepdims,\n"
     ]
    },
    {
     "name": "stdout",
     "output_type": "stream",
     "text": [
      "\n",
      "Starting 39 of 45: RGI60-01.01743  45.165 km2\n"
     ]
    },
    {
     "name": "stderr",
     "output_type": "stream",
     "text": [
      "C:\\Users\\lzell\\anaconda3\\envs\\AGVA_env\\lib\\site-packages\\dask\\array\\chunk.py:276: RuntimeWarning: invalid value encountered in cast\n",
      "  return x.astype(astype_dtype, **kwargs)\n",
      "C:\\Users\\lzell\\anaconda3\\envs\\AGVA_env\\lib\\site-packages\\numpy\\lib\\nanfunctions.py:1217: RuntimeWarning: All-NaN slice encountered\n",
      "  return function_base._ureduce(a, func=_nanmedian, keepdims=keepdims,\n"
     ]
    },
    {
     "name": "stdout",
     "output_type": "stream",
     "text": [
      "\n",
      "Starting 40 of 45: RGI60-01.15135  66.067 km2\n"
     ]
    },
    {
     "name": "stderr",
     "output_type": "stream",
     "text": [
      "C:\\Users\\lzell\\anaconda3\\envs\\AGVA_env\\lib\\site-packages\\dask\\array\\chunk.py:276: RuntimeWarning: invalid value encountered in cast\n",
      "  return x.astype(astype_dtype, **kwargs)\n",
      "C:\\Users\\lzell\\anaconda3\\envs\\AGVA_env\\lib\\site-packages\\numpy\\lib\\nanfunctions.py:1217: RuntimeWarning: All-NaN slice encountered\n",
      "  return function_base._ureduce(a, func=_nanmedian, keepdims=keepdims,\n"
     ]
    },
    {
     "name": "stdout",
     "output_type": "stream",
     "text": [
      "\n",
      "Starting 41 of 45: RGI60-01.19542  71.722 km2\n"
     ]
    },
    {
     "name": "stderr",
     "output_type": "stream",
     "text": [
      "C:\\Users\\lzell\\anaconda3\\envs\\AGVA_env\\lib\\site-packages\\dask\\array\\chunk.py:276: RuntimeWarning: invalid value encountered in cast\n",
      "  return x.astype(astype_dtype, **kwargs)\n",
      "C:\\Users\\lzell\\anaconda3\\envs\\AGVA_env\\lib\\site-packages\\numpy\\lib\\nanfunctions.py:1217: RuntimeWarning: All-NaN slice encountered\n",
      "  return function_base._ureduce(a, func=_nanmedian, keepdims=keepdims,\n"
     ]
    },
    {
     "name": "stdout",
     "output_type": "stream",
     "text": [
      "\n",
      "Starting 42 of 45: RGI60-01.20841  80.284 km2\n"
     ]
    },
    {
     "name": "stderr",
     "output_type": "stream",
     "text": [
      "C:\\Users\\lzell\\anaconda3\\envs\\AGVA_env\\lib\\site-packages\\dask\\array\\chunk.py:276: RuntimeWarning: invalid value encountered in cast\n",
      "  return x.astype(astype_dtype, **kwargs)\n",
      "C:\\Users\\lzell\\anaconda3\\envs\\AGVA_env\\lib\\site-packages\\numpy\\lib\\nanfunctions.py:1217: RuntimeWarning: All-NaN slice encountered\n",
      "  return function_base._ureduce(a, func=_nanmedian, keepdims=keepdims,\n"
     ]
    },
    {
     "name": "stdout",
     "output_type": "stream",
     "text": [
      "\n",
      "Starting 43 of 45: RGI60-01.03741  136.264 km2\n"
     ]
    },
    {
     "name": "stderr",
     "output_type": "stream",
     "text": [
      "C:\\Users\\lzell\\anaconda3\\envs\\AGVA_env\\lib\\site-packages\\dask\\array\\chunk.py:276: RuntimeWarning: invalid value encountered in cast\n",
      "  return x.astype(astype_dtype, **kwargs)\n",
      "C:\\Users\\lzell\\anaconda3\\envs\\AGVA_env\\lib\\site-packages\\numpy\\lib\\nanfunctions.py:1217: RuntimeWarning: All-NaN slice encountered\n",
      "  return function_base._ureduce(a, func=_nanmedian, keepdims=keepdims,\n"
     ]
    },
    {
     "name": "stdout",
     "output_type": "stream",
     "text": [
      "\n",
      "Starting 44 of 45: RGI60-01.16558  343.098 km2\n"
     ]
    },
    {
     "name": "stderr",
     "output_type": "stream",
     "text": [
      "C:\\Users\\lzell\\anaconda3\\envs\\AGVA_env\\lib\\site-packages\\dask\\array\\chunk.py:276: RuntimeWarning: invalid value encountered in cast\n",
      "  return x.astype(astype_dtype, **kwargs)\n",
      "C:\\Users\\lzell\\anaconda3\\envs\\AGVA_env\\lib\\site-packages\\numpy\\lib\\nanfunctions.py:1217: RuntimeWarning: All-NaN slice encountered\n",
      "  return function_base._ureduce(a, func=_nanmedian, keepdims=keepdims,\n"
     ]
    },
    {
     "name": "stdout",
     "output_type": "stream",
     "text": [
      "\n",
      "Starting 45 of 45: RGI60-01.01390  521.396 km2\n"
     ]
    },
    {
     "name": "stderr",
     "output_type": "stream",
     "text": [
      "C:\\Users\\lzell\\anaconda3\\envs\\AGVA_env\\lib\\site-packages\\dask\\array\\chunk.py:276: RuntimeWarning: invalid value encountered in cast\n",
      "  return x.astype(astype_dtype, **kwargs)\n",
      "C:\\Users\\lzell\\anaconda3\\envs\\AGVA_env\\lib\\site-packages\\numpy\\lib\\nanfunctions.py:1217: RuntimeWarning: All-NaN slice encountered\n",
      "  return function_base._ureduce(a, func=_nanmedian, keepdims=keepdims,\n"
     ]
    },
    {
     "name": "stdout",
     "output_type": "stream",
     "text": [
      "All done!\n"
     ]
    }
   ],
   "source": [
    "skip = 0\n",
    "for i in range(len(rgis_to_analyze)):\n",
    "#     if i!=0: continue\n",
    "    # subset rgi to single outline, by choosing rgiid or rgi name\n",
    "    rgiid = rgis_to_analyze[i]\n",
    "#     if rgiid!='RGI60-01.15731': continue\n",
    "        \n",
    "    rgiid = rgis_to_analyze[i]\n",
    "    # check if we've already run this glacier. if so, skip\n",
    "    temp_path = os.path.join(folder_save, 'Annual AAs', 'csv', f\"S2_{rgiid}_2018_2022_annual_AAs.csv\")\n",
    "#     if os.path.exists(temp_path):\n",
    "#         continue\n",
    "\n",
    "    # quickly grab glacier area\n",
    "    ga = rgi_gdf[rgi_gdf['RGIId']==rgiid]['Area'].values[0]\n",
    "\n",
    "#     if ga>300: continue\n",
    "    \n",
    "    # print progress\n",
    "    print(f\"\\nStarting {i+1} of {len(rgis_to_analyze)}: {rgiid}  {ga} km2\")\n",
    "    \n",
    "    # open glacier mask\n",
    "    glacier_mask = xr.open_dataset(os.path.join(folder_mask, f\"S2_{rgiid}_mask.nc\"), chunks='auto').glacier\n",
    "    \n",
    "    # define the coarsen scale\n",
    "    if ga>1000:\n",
    "        scale=5\n",
    "    elif ga>500:\n",
    "        scale=3\n",
    "        \n",
    "    if ga>500:\n",
    "        glacier_mask = glacier_mask.coarsen({\"x\":scale, \"y\":scale}, boundary=\"trim\").median(skipna=True).astype('uint8')\n",
    "        \n",
    "    # open the ela dataframe\n",
    "    path_open = os.path.join(folder_save, \"ELAs\", f\"{rgiid}_ELAs.csv\")\n",
    "    ela_df = pd.read_csv(path_open)\n",
    "    \n",
    "#     print(ela_df)\n",
    "    \n",
    "    # throw out anything that has <XYZ% observed\n",
    "    ela_df_good = ela_df[ela_df['observed_after_smoothing']>0.7]\n",
    "    ela_df_good = ela_df_good[ela_df_good['observed_initial']>0.3]\n",
    "    \n",
    "    # now for each year, get the maximum ela\n",
    "    annual_best = []\n",
    "    \n",
    "    bad_dates = []\n",
    "    bad_elas = []\n",
    "    expected_elas = []\n",
    "    bad_dates2 = []\n",
    "    bad_elas2 = []\n",
    "    expected_elas2 = []\n",
    "    \n",
    "    for y in [2018,2019,2020,2021,2022]:\n",
    "#         if y!=2020: continue\n",
    "#         print(y)\n",
    "        # decide which of the columns you are going to want to save\n",
    "        cols_to_save = ['date', 'ela', 'observed_after_smoothing', 'aar', 'off_glacier']\n",
    "        \n",
    "        # subset to this year. note we only consider obs in the july-november time frame\n",
    "        elas_this_year = ela_df_good[ (ela_df_good['date']>=f'{y}-07-01') & (ela_df_good['date']<f'{y}-12-01')].copy()\n",
    "        \n",
    "#         print(elas_this_year.shape)\n",
    "        # add doy\n",
    "        elas_this_year['date_dt'] = [datetime.strptime(i, \"%Y-%m-%d\") for i in elas_this_year['date'] ]\n",
    "        elas_this_year['doy'] = [i.timetuple().tm_yday for i in elas_this_year['date_dt'] ]\n",
    "        \n",
    "        # if len=0, we have no good data so we save a null point\n",
    "        n_obs = len(elas_this_year)\n",
    "        if n_obs==0:\n",
    "            annual_best.append(pd.Series({\"date\":f\"{y}-01-01\", \"ela\":-9999, 'fraction_observed':-9999, 'aar':-9999, 'off_glacier':-9999}))\n",
    "        \n",
    "        # else we decide which the best of the elas is and save that info\n",
    "        else:\n",
    "            \n",
    "            ### filter out the ELA outliers\n",
    "            for idx, row in elas_this_year.iterrows():\n",
    "                \n",
    "                # grab all obs in the 7-30 day preceding window\n",
    "                # (due ot temporal smoothing we might have info being shared within past few days that we want to avoid)\n",
    "                obs_past_30 = elas_this_year[ elas_this_year['doy'] >= (row['doy']-60) ]\n",
    "                obs_past_30 = obs_past_30[ obs_past_30['doy'] < (row['doy']-1) ]\n",
    "\n",
    "                # if there are no other obs in the past 30 days, we just need to trust that this is real\n",
    "                if len(obs_past_30)<3:\n",
    "                    continue\n",
    "\n",
    "                else:\n",
    "                    # line of best fit to these obs (predict ela from doy)\n",
    "                    X = obs_past_30['doy'].values.reshape(-1, 1)\n",
    "                    y = obs_past_30['ela']\n",
    "                    y2 = obs_past_30['aar']\n",
    "                    bestfit = LinearRegression().fit(X, y)\n",
    "\n",
    "                    # predict the ela on this date from that fit\n",
    "                    pred = bestfit.predict(np.array(row['doy']).reshape(-1, 1))\n",
    "\n",
    "                    # calculate difference\n",
    "                    ela_diff = row['ela']-pred\n",
    "#                     print(f\"Predicted:{pred} Observed:{ela_max_best['ela']}\")\n",
    "\n",
    "                    # if we within a reasonable range, then we say this is a good observation and save it\n",
    "                    tolerance=200\n",
    "                    if ela_diff<=tolerance:\n",
    "                        continue\n",
    "                    \n",
    "                    # or if we predicted a negative slope, then all bets are off\n",
    "                    elif bestfit.coef_[0]<0:\n",
    "                        continue\n",
    "                        \n",
    "                    # of if the date range of all the obs used to predict are too tight, then we can't throw it out\n",
    "                    elif (np.nanmax(obs_past_30['doy'])-np.nanmin(obs_past_30['doy']))<15:\n",
    "                        continue\n",
    "\n",
    "                    # otherwise, we remove this row because it's bad\n",
    "                    else:\n",
    "                        bad_dates.append(row['date'])\n",
    "                        bad_elas.append(row['ela'])\n",
    "                        expected_elas.append(pred)\n",
    "                        elas_this_year.drop(idx, inplace=True) \n",
    "                   \n",
    "                \n",
    "                \n",
    "            ### filter out the AAR outliers\n",
    "            for idx, row in elas_this_year.iterrows():\n",
    "                \n",
    "                # grab all obs in the 7-30 day preceding window\n",
    "                # (due ot temporal smoothing we might have info being shared within past few days that we want to avoid)\n",
    "                obs_past_30 = elas_this_year[ elas_this_year['doy'] >= (row['doy']-60) ]\n",
    "                obs_past_30 = obs_past_30[ obs_past_30['doy'] < (row['doy']-1) ]\n",
    "\n",
    "                # if there are no other obs in the past 30 days, we just need to trust that this is real\n",
    "                if len(obs_past_30)<3:\n",
    "                    continue\n",
    "\n",
    "                else:\n",
    "\n",
    "                    # line of best fit to these obs (predict ela from doy)\n",
    "                    X = obs_past_30['doy'].values.reshape(-1, 1)\n",
    "                    y = obs_past_30['ela']\n",
    "                    y2 = obs_past_30['aar']\n",
    "                    bestfit = LinearRegression().fit(X, y2)\n",
    "\n",
    "                    # predict the ela on this date from that fit\n",
    "                    pred = bestfit.predict(np.array(row['doy']).reshape(-1, 1))\n",
    "\n",
    "                    # calculate difference\n",
    "                    aar_diff = row['aar']-pred\n",
    "#                     print(f\"Predicted:{pred} Observed:{ela_max_best['ela']}\")\n",
    "\n",
    "                    # if we within a reasonable range, then we say this is a good observation and save it\n",
    "                    tolerance=-0.15\n",
    "                    if aar_diff>=tolerance:\n",
    "                        continue\n",
    "                    \n",
    "                    # or if we predicted a positive slope, then all bets are off\n",
    "                    elif bestfit.coef_[0]>0:\n",
    "                        continue\n",
    "                        \n",
    "                    # of if the date range of all the obs used to predict are too tight, then we can't throw it out\n",
    "                    elif (np.nanmax(obs_past_30['doy'])-np.nanmin(obs_past_30['doy']))<10:\n",
    "                        continue\n",
    "\n",
    "                    # otherwise, we remove this row because it's bad\n",
    "                    else:\n",
    "                        bad_dates2.append(row['date'])\n",
    "                        bad_elas2.append(row['aar'])\n",
    "                        expected_elas2.append(pred)\n",
    "                        elas_this_year.drop(idx, inplace=True) \n",
    "            \n",
    "            # find the maximum ela\n",
    "            ela_max = np.nanmax(elas_this_year['ela'])\n",
    "\n",
    "            # get all the dates that had this ela\n",
    "            ela_max_all = elas_this_year[elas_this_year['ela']==ela_max]\n",
    "\n",
    "            # we'll take the one that has the minimum aar to be the 'best' estimate\n",
    "            # for example, if the ela is well above the glacier, there are likely many dates with the same ela found\n",
    "            ela_max_best = ela_max_all.loc[ela_max_all['aar'].idxmin()]\n",
    "            \n",
    "            # find the minimum aar\n",
    "            aar_min = np.nanmin(elas_this_year['aar'])\n",
    "            aar_min_all = elas_this_year[elas_this_year['aar']==aar_min]\n",
    "            aar_min_best = aar_min_all.loc[aar_min_all['ela'].idxmax()]\n",
    "            \n",
    "            # choose which to use\n",
    "            best = ela_max_best #ela_max_best, aar_min_best\n",
    "            \n",
    "            # save this data\n",
    "            annual_best.append(best[cols_to_save])\n",
    "            \n",
    "    ### save all the data here\n",
    "    \n",
    "    # function to format metadata and attributes\n",
    "    def format_xr_to_save(xr_da):\n",
    "        xr_da.attrs[\"res\"] = (10,10)\n",
    "        xr_da.attrs[\"crs\"] = \"EPSG:3338\"\n",
    "        xr_da.attrs[\"transform\"] = [10,0,0,0,-10,0]\n",
    "        xr_da.attrs[\"_FillValue\"] = 0\n",
    "        xr_da.attrs[\"long_name\"] = rgiid\n",
    "        xr_da.attrs[\"description\"] = \"0: nan, 1: ablation, 2: accumulation\"\n",
    "        xr_da.name = \"accumulation_area\"\n",
    "\n",
    "        xr_da.x.attrs[\"units\"] = \"meters\"\n",
    "        xr_da.y.attrs[\"units\"] = \"meters\"\n",
    "        xr_da.x.attrs[\"long_name\"] = 'x'\n",
    "        xr_da.y.attrs[\"long_name\"] = 'y'\n",
    "\n",
    "        return xr_da\n",
    "    \n",
    "    # set folder paths, etc...\n",
    "    path_df_all = os.path.join(folder_save, 'Annual AAs', 'csv', f\"S2_{rgiid}_2018_2022_annual_AAs.csv\")\n",
    "    path_xr_all = os.path.join(folder_save, 'Annual AAs', f\"S2_{rgiid}_2018_2022_annual_AAs.nc\")\n",
    "    path_xr_avg = os.path.join(folder_save, 'Average AAs', f\"S2_{rgiid}_2018_2022_average_AA.nc\")\n",
    "    path_tif_avg = os.path.join(folder_save, 'Average AAs', f\"S2_{rgiid}_2018_2022_average_AA.tif\")\n",
    "    \n",
    "    # one year at a time, get the snow distributions\n",
    "    all_maps = []\n",
    "    for s in annual_best:\n",
    "        \n",
    "        # get date\n",
    "        d = s['date']\n",
    "        y = d[:4]\n",
    "        \n",
    "        # skip the null years\n",
    "        if d[5:7]=='01': continue\n",
    "        \n",
    "        # open the snow distribution map\n",
    "        if ga>500:\n",
    "            path_open = os.path.join(folder_save, 'Daily AAs', f\"S2_{rgiid}_{d[:4]}_daily_AAs_shadowed_coarse_smoothed.nc\")\n",
    "        else:\n",
    "            path_open = os.path.join(folder_save, 'Daily AAs', f\"S2_{rgiid}_{d[:4]}_daily_AAs_shadowed_smoothed.nc\")\n",
    "        \n",
    "        snow = xr.open_dataset(path_open, chunks={'time':1})['class'].sel(time=d)\n",
    "        \n",
    "        # add to list to save\n",
    "        all_maps.append(snow.copy())\n",
    "        \n",
    "        # save each as a tif\n",
    "        path_out = os.path.join(folder_save, 'Annual AAs', f\"S2_{rgiid}_{y}_AA.tif\")\n",
    "        snow = format_xr_to_save(snow)\n",
    "        encoding = {\"accumulation_area\":{\"zlib\": True}}\n",
    "        \n",
    "        snow.rio.to_raster(raster_path=path_out, encoding=encoding)\n",
    "    \n",
    "    # format to save maps as long as there is usable imagery\n",
    "    if len(all_maps)>0:\n",
    "        \n",
    "        # compute average map\n",
    "        all_maps = xr.concat(all_maps, dim='time')\n",
    "        all_maps = all_maps.where(all_maps.isin([1,2]), np.nan)\n",
    "        average_map = all_maps.median('time', skipna=True).astype('uint8')#+glacier_mask\n",
    "        \n",
    "        save_xr_all = format_xr_to_save(all_maps.astype('uint8'))\n",
    "        save_xr_avg = format_xr_to_save(average_map)\n",
    "\n",
    "        # specify compression/encoding\n",
    "        encoding = {\"accumulation_area\":{\"zlib\": True}}#, \"spatial_ref\":{\"zlib\": False}}\n",
    "        # ['PREDICTOR=2','COMPRESS=DEFLATE', 'ZLEVEL=9'])\n",
    "        \n",
    "        # save\n",
    "        save_xr_all.to_netcdf(path_xr_all, encoding=encoding)\n",
    "#         save_xr_avg.to_netcdf(path_xr_avg, encoding=encoding)\n",
    "        save_xr_avg.rio.to_raster(raster_path=path_tif_avg, encoding=encoding)\n",
    "\n",
    "    # always save the csv\n",
    "    annual_best = pd.DataFrame(annual_best)\n",
    "    annual_best.to_csv(path_df_all, index=False) # table with annual end-of-summer ela, aar, date, fraction observed\n",
    "\n",
    "print('All done!')"
   ]
  },
  {
   "cell_type": "code",
   "execution_count": 5,
   "id": "2286712b",
   "metadata": {},
   "outputs": [
    {
     "name": "stdout",
     "output_type": "stream",
     "text": [
      "           date     ela  observed_after_smoothing     aar  off_glacier\n",
      "28   2018-10-01  1420.0                    0.9862  0.5050        False\n",
      "62   2019-09-09  1490.0                    0.9887  0.2791        False\n",
      "88   2020-09-25  1170.0                    0.8680  0.7252        False\n",
      "109  2021-09-18   990.0                    0.9308  0.8400        False\n",
      "141  2022-09-18   950.0                    0.9576  0.8618        False\n"
     ]
    },
    {
     "data": {
      "text/plain": [
       "Text(0.5, 0.98, 'RGI60-01.01390')"
      ]
     },
     "execution_count": 5,
     "metadata": {},
     "output_type": "execute_result"
    },
    {
     "data": {
      "image/png": "[encoded data removed]",
      "text/plain": [
       "<Figure size 1000x800 with 2 Axes>"
      ]
     },
     "metadata": {},
     "output_type": "display_data"
    }
   ],
   "source": [
    "print(annual_best)\n",
    "fig,axs = plt.subplots(2,1, figsize=(10,8))\n",
    "marker = 'o'\n",
    "size = 10\n",
    "color='blue'\n",
    "axs[0].scatter(pd.to_datetime(ela_df_good['date']), ela_df_good['ela'], marker=marker, s=size, c=color, zorder=5)\n",
    "axs[1].scatter(pd.to_datetime(ela_df_good['date']), ela_df_good['aar'], marker=marker, s=size, c=color, zorder=5)\n",
    "\n",
    "axs[0].scatter(pd.to_datetime(bad_dates), bad_elas, c='red')\n",
    "axs[0].scatter(pd.to_datetime(bad_dates), expected_elas, c='orange')\n",
    "\n",
    "axs[1].scatter(pd.to_datetime(bad_dates2), bad_elas2, c='red')\n",
    "axs[1].scatter(pd.to_datetime(bad_dates2), expected_elas2, c='orange')\n",
    "    \n",
    "marker = 'X'\n",
    "size = 50\n",
    "color='green'\n",
    "axs[0].scatter(pd.to_datetime(annual_best['date']), annual_best['ela'], marker=marker, s=size, c=color, zorder=1)\n",
    "axs[1].scatter(pd.to_datetime(annual_best['date']), annual_best['aar'], marker=marker, s=size, c=color, zorder=1)\n",
    "\n",
    "plt.suptitle(rgiid)"
   ]
  }
 ],
 "metadata": {
  "kernelspec": {
   "display_name": "Python 3 (ipykernel)",
   "language": "python",
   "name": "python3"
  },
  "language_info": {
   "codemirror_mode": {
    "name": "ipython",
    "version": 3
   },
   "file_extension": ".py",
   "mimetype": "text/x-python",
   "name": "python",
   "nbconvert_exporter": "python",
   "pygments_lexer": "ipython3",
   "version": "3.8.17"
  }
 },
 "nbformat": 4,
 "nbformat_minor": 5
}
