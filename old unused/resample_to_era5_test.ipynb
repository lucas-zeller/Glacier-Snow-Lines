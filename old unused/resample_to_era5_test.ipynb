{
 "cells": [
  {
   "cell_type": "code",
   "execution_count": 33,
   "id": "a659775a",
   "metadata": {},
   "outputs": [],
   "source": [
    "# https://corteva.github.io/rioxarray/stable/rioxarray.html#rioxarray.raster_array.RasterArray.reproject_match\n",
    "# https://rasterio.readthedocs.io/en/stable/api/rasterio.enums.html#rasterio.enums.Resampling\n",
    "\n",
    "import os\n",
    "import rasterio as rio\n",
    "import numpy as np\n",
    "import shapely\n",
    "import pyproj\n",
    "import geopandas as gpd\n",
    "import matplotlib.pyplot as plt\n",
    "import rioxarray as riox\n",
    "import rasterio as rio\n",
    "import xarray as xr\n",
    "import netCDF4\n",
    "from osgeo import gdal\n",
    "import pandas as pd\n",
    "from datetime import datetime\n",
    "import snowFun\n",
    "import dask.array\n",
    "# %matplotlib widget\n",
    "\n",
    "# define folder and file paths\n",
    "folder_AGVA = os.path.join('C:',os.sep,'Users','lzell','OneDrive - Colostate','Desktop',\"AGVA\")\n",
    "folder_dems = os.path.join(folder_AGVA, \"DEMs\", \"time_varying_DEMs\", \"10m\")\n",
    "folder_class = os.path.join(folder_AGVA, 'classified images', 'S2_Classified_Cloudmasked_Merged')\n",
    "folder_cloud = os.path.join(folder_AGVA, 'classified images', 'S2_Cloud_Merged')\n",
    "folder_meta = os.path.join(folder_AGVA, \"classified images\", \"meta csv\", \"S2\")\n",
    "folder_sca = os.path.join(folder_AGVA, 'Derived products', 'S2', 'Band SCFs')"
   ]
  },
  {
   "cell_type": "code",
   "execution_count": 34,
   "id": "4921f41f",
   "metadata": {},
   "outputs": [],
   "source": [
    "# define path to 5-year average snow cover product\n",
    "sca_path = os.path.join(folder_AGVA, 'Derived products', 'S2', \"Region_04_2018_2022.tif\")\n",
    "\n",
    "# define path to era5land file\n",
    "era5land_path = os.path.join(folder_AGVA, 'Climate', \"era5land_daily_temp_2018_2022.tif\")"
   ]
  },
  {
   "cell_type": "code",
   "execution_count": 61,
   "id": "d63c0795",
   "metadata": {},
   "outputs": [
    {
     "name": "stderr",
     "output_type": "stream",
     "text": [
      "C:\\Users\\lzell\\anaconda3\\envs\\AGVA_env\\lib\\site-packages\\xarray\\core\\duck_array_ops.py:187: RuntimeWarning: invalid value encountered in cast\n",
      "  return data.astype(dtype, **kwargs)\n",
      "C:\\Users\\lzell\\anaconda3\\envs\\AGVA_env\\lib\\site-packages\\xarray\\core\\duck_array_ops.py:187: RuntimeWarning: invalid value encountered in cast\n",
      "  return data.astype(dtype, **kwargs)\n"
     ]
    }
   ],
   "source": [
    "# open each product\n",
    "sca_xr = xr.open_dataarray(sca_path).astype(int)\n",
    "era5land_xr = xr.open_dataarray(era5land_path)[0].astype(int)"
   ]
  },
  {
   "cell_type": "code",
   "execution_count": 63,
   "id": "89c4e91c",
   "metadata": {},
   "outputs": [],
   "source": [
    "# test setting on-glacier to 1, off-glacier to 0, then resample with 'sum'\n",
    "# or just snow to 1, everything else to 0\n",
    "to_resample = xr.where(sca_xr>1,1,0)\n",
    "\n",
    "# do the resampling\n",
    "test = to_resample.rio.reproject_match(era5land_xr, resampling=rio.enums.Resampling.sum) #.sum, .average, .\n",
    "out_path = os.path.join(folder_AGVA,'test_resampling.tif')\n",
    "\n",
    "# save to file\n",
    "test.rio.to_raster(raster_path=out_path)"
   ]
  },
  {
   "cell_type": "code",
   "execution_count": 53,
   "id": "6792c190",
   "metadata": {},
   "outputs": [
    {
     "name": "stdout",
     "output_type": "stream",
     "text": [
      "0.08857828155603997\n"
     ]
    }
   ],
   "source": [
    "print(test)"
   ]
  }
 ],
 "metadata": {
  "kernelspec": {
   "display_name": "Python 3 (ipykernel)",
   "language": "python",
   "name": "python3"
  },
  "language_info": {
   "codemirror_mode": {
    "name": "ipython",
    "version": 3
   },
   "file_extension": ".py",
   "mimetype": "text/x-python",
   "name": "python",
   "nbconvert_exporter": "python",
   "pygments_lexer": "ipython3",
   "version": "3.8.17"
  }
 },
 "nbformat": 4,
 "nbformat_minor": 5
}
