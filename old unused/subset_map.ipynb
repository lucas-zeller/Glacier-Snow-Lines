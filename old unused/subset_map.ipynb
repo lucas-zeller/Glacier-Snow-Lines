{
 "cells": [
  {
   "cell_type": "code",
   "execution_count": 1,
   "id": "8d945ef0",
   "metadata": {},
   "outputs": [],
   "source": [
    "import os\n",
    "import shapely\n",
    "import pyproj\n",
    "import geopandas as gpd\n",
    "import pandas as pd\n",
    "\n",
    "# define folder and file paths\n",
    "folder_AGVA = os.path.join('C:',os.sep,'Users','lzell','OneDrive - Colostate','Desktop',\"AGVA\")\n",
    "folder_dems = os.path.join(folder_AGVA, \"DEMs\", \"time_varying_DEMs\", \"10m\")\n",
    "folder_class = os.path.join(folder_AGVA, 'classified images', 'S2_Classified_Cloudmasked_Merged')\n",
    "folder_cloud = os.path.join(folder_AGVA, 'classified images', 'S2_Cloud_Merged')\n",
    "folder_meta = os.path.join(folder_AGVA, \"classified images\", \"meta csv\", \"S2\")\n",
    "\n",
    "# open rgi\n",
    "path_rgi = os.path.join(folder_AGVA, 'RGI', \"01_rgi60_Alaska\", \"01_rgi60_Alaska.shp\")\n",
    "rgi_gdf = gpd.read_file(path_rgi)"
   ]
  },
  {
   "cell_type": "code",
   "execution_count": 13,
   "id": "5f0c2277",
   "metadata": {},
   "outputs": [
    {
     "name": "stdout",
     "output_type": "stream",
     "text": [
      "<bound method NDFrame.head of                 RGIId         GLIMSId   BgnDate   EndDate      CenLon  \\\n",
      "1730   RGI60-01.01731  G214694E60999N  20100918  -9999999 -145.306259   \n",
      "1732   RGI60-01.01733  G214859E60888N  20100918  -9999999 -145.141000   \n",
      "1733   RGI60-01.01734  G215072E60886N  20100918  -9999999 -144.928000   \n",
      "1734   RGI60-01.01735  G214822E60788N  20100918  -9999999 -145.178000   \n",
      "1740   RGI60-01.01741  G214802E60696N  20100902  -9999999 -145.198000   \n",
      "...               ...             ...       ...       ...         ...   \n",
      "23041  RGI60-01.23046  G212867E61496N  20090906  -9999999 -147.132874   \n",
      "23560  RGI60-01.23565  G211513E60431N  20060912  -9999999 -148.487000   \n",
      "23630  RGI60-01.23635  G212673E61210N  20090906  -9999999 -147.327087   \n",
      "24710  RGI60-01.24715  G211232E60657N  20060912  -9999999 -148.768000   \n",
      "26715  RGI60-01.26720  G209857E60132N  20050720  -9999999 -150.143000   \n",
      "\n",
      "          CenLat O1Region O2Region     Area  Zmin  ...  Aspect   Lmax  Status  \\\n",
      "1730   60.999287        1        4  167.667   139  ...      17  26066       0   \n",
      "1732   60.888000        1        4  119.101   110  ...     346  25282       0   \n",
      "1733   60.886000        1        4   65.511    72  ...      49  18947       0   \n",
      "1734   60.788000        1        4   24.925   227  ...     298  10130       0   \n",
      "1740   60.696000        1        4  141.058   115  ...     244  25514       0   \n",
      "...          ...      ...      ...      ...   ...  ...     ...    ...     ...   \n",
      "23041  61.496361        1        4   81.974   802  ...     360  24951       0   \n",
      "23560  60.431000        1        4   45.887    32  ...      54  13984       0   \n",
      "23630  61.209824        1        4  129.755     0  ...     142  21041       0   \n",
      "24710  60.657000        1        4   20.882    94  ...      56  10786       0   \n",
      "26715  60.132000        1        4   26.564   692  ...     341   9996       0   \n",
      "\n",
      "       Connect  Form  TermType  Surging  Linkages  \\\n",
      "1730         0     0         2        9         9   \n",
      "1732         0     0         2        9         9   \n",
      "1733         0     0         0        9         9   \n",
      "1734         0     0         0        9         9   \n",
      "1740         0     0         0        9         9   \n",
      "...        ...   ...       ...      ...       ...   \n",
      "23041        0     0         0        9         9   \n",
      "23560        0     0         1        9         9   \n",
      "23630        0     0         1        9         9   \n",
      "24710        0     0         0        9         9   \n",
      "26715        0     0         0        9         9   \n",
      "\n",
      "                                Name  \\\n",
      "1730               Woodworth Glacier   \n",
      "1732                  Schwan Glacier   \n",
      "1733                   Heney Glacier   \n",
      "1734                             NaN   \n",
      "1740                   Scott Glacier   \n",
      "...                              ...   \n",
      "23041              Sylvester Glacier   \n",
      "23560            Nellie Juan Glacier   \n",
      "23630  First Branch Columbia Glacier   \n",
      "24710              Northland Glacier   \n",
      "26715                 Killey Glacier   \n",
      "\n",
      "                                                geometry  \n",
      "1730   POLYGON ((-145.25509 60.89424, -145.25502 60.8...  \n",
      "1732   POLYGON ((-145.19272 60.83754, -145.19280 60.8...  \n",
      "1733   POLYGON ((-144.99493 60.92285, -144.99494 60.9...  \n",
      "1734   POLYGON ((-145.14198 60.82379, -145.14121 60.8...  \n",
      "1740   POLYGON ((-145.09200 60.76265, -145.09178 60.7...  \n",
      "...                                                  ...  \n",
      "23041  POLYGON ((-147.01878 61.52474, -147.02045 61.5...  \n",
      "23560  POLYGON ((-148.40704 60.46325, -148.40700 60.4...  \n",
      "23630  POLYGON ((-147.12870 61.25475, -147.12797 61.2...  \n",
      "24710  POLYGON ((-148.78389 60.69421, -148.78392 60.6...  \n",
      "26715  POLYGON ((-150.09961 60.16950, -150.09976 60.1...  \n",
      "\n",
      "[87 rows x 23 columns]>\n"
     ]
    }
   ],
   "source": [
    "### subset rgi however you want, save to whatever name you want\n",
    "# get rgi names for given o2 region\n",
    "rgis_subset = rgi_gdf[rgi_gdf['O2Region']=='4']\n",
    "rgis_subset = rgis_subset[rgis_subset['Area']>20]\n",
    "\n",
    "print(rgis_subset.head)\n"
   ]
  },
  {
   "cell_type": "code",
   "execution_count": 12,
   "id": "d0d78c89",
   "metadata": {},
   "outputs": [],
   "source": [
    "# path to save\n",
    "path_save = os.path.join(folder_AGVA, 'rgi subsets', \"r4_20km.geojson\")\n",
    "with open(path_save, 'w') as file:\n",
    "    file.write(rgis_subset.to_json())\n"
   ]
  }
 ],
 "metadata": {
  "kernelspec": {
   "display_name": "Python 3 (ipykernel)",
   "language": "python",
   "name": "python3"
  },
  "language_info": {
   "codemirror_mode": {
    "name": "ipython",
    "version": 3
   },
   "file_extension": ".py",
   "mimetype": "text/x-python",
   "name": "python",
   "nbconvert_exporter": "python",
   "pygments_lexer": "ipython3",
   "version": "3.8.17"
  }
 },
 "nbformat": 4,
 "nbformat_minor": 5
}
