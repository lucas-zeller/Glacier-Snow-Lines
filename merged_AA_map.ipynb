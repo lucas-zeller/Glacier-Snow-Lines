{
 "cells": [
  {
   "cell_type": "code",
   "execution_count": 4,
   "id": "a659775a",
   "metadata": {},
   "outputs": [],
   "source": [
    "import os\n",
    "import matplotlib.pyplot as plt\n",
    "from osgeo import gdal\n",
    "import geopandas as gpd\n",
    "import pandas as pd\n",
    "import shutil"
   ]
  },
  {
   "cell_type": "code",
   "execution_count": 5,
   "id": "4921f41f",
   "metadata": {},
   "outputs": [],
   "source": [
    "# define folder paths\n",
    "folder_AGVA = os.path.join('C:',os.sep,'Users','lzell','OneDrive - Colostate','Desktop',\"AGVA\")\n",
    "folder_products = os.path.join(folder_AGVA, 'Derived products', 'S2', 'Average AAs')\n",
    "\n",
    "# open rgi df\n",
    "path_rgi = os.path.join(folder_AGVA, 'RGI', \"rgi_2km_o3regions\", \"rgi_2km_o3regions.shp\")\n",
    "rgi_gdf = gpd.read_file(path_rgi)"
   ]
  },
  {
   "cell_type": "code",
   "execution_count": 31,
   "id": "d63c0795",
   "metadata": {},
   "outputs": [
    {
     "name": "stdout",
     "output_type": "stream",
     "text": [
      "1087\n"
     ]
    }
   ],
   "source": [
    "# get list of all the .tif AAs in the folder\n",
    "all_tifs_names = os.listdir(folder_products)\n",
    "\n",
    "# keep only tif file paths\n",
    "all_tifs_names = [i for i in all_tifs_names if i[-3:]=='tif']\n",
    "\n",
    "# keep only the rgi ids that are in o2region x\n",
    "o2region_target = '6'\n",
    "all_tifs_names = [i for i in all_tifs_names if rgi_gdf[rgi_gdf['RGIId']==i[3:17]]['O2Region'].values[0]==o2region_target ]\n",
    "\n",
    "# make them into file paths\n",
    "all_tifs_paths = [os.path.join(folder_products, i) for i in all_tifs_names]\n",
    "\n",
    "print(len(all_tifs_paths))"
   ]
  },
  {
   "cell_type": "code",
   "execution_count": 32,
   "id": "4d9d8d78",
   "metadata": {},
   "outputs": [
    {
     "name": "stdout",
     "output_type": "stream",
     "text": [
      "mosaicing done\n"
     ]
    }
   ],
   "source": [
    "# define path for vrt, output location/name\n",
    "out_path = os.path.join(folder_AGVA, 'Derived products', 'S2', f\"Region_0{o2region_target}_2018_2022_AA.tif\")\n",
    "vrt_path = os.path.join(folder_AGVA, 'Derived products', 'S2', 'merged.vrt')\n",
    "\n",
    "# build vrt dataset\n",
    "vrt = gdal.BuildVRT(vrt_path, all_tifs_paths, VRTNodata='nan', srcNodata=0)\n",
    "\n",
    "# Open the VRT dataset\n",
    "ds = gdal.Open(vrt_path)\n",
    "\n",
    "# # set nodata to 0\n",
    "# for band_num in range(1, ds.RasterCount + 1):\n",
    "#     band = ds.GetRasterBand(band_num)\n",
    "#     band.SetNoDataValue(0)\n",
    "\n",
    "# mosaic\n",
    "gdal.Translate(out_path, ds, outputType=gdal.GDT_Byte, creationOptions = ['PREDICTOR=1','COMPRESS=ZSTD', 'ZSTD_LEVEL=1', \"TILED=TRUE\"])\n",
    "ds = None\n",
    "print(\"mosaicing done\")\n",
    "\n",
    "# os.remove(vrt_path)"
   ]
  }
 ],
 "metadata": {
  "kernelspec": {
   "display_name": "Python 3 (ipykernel)",
   "language": "python",
   "name": "python3"
  },
  "language_info": {
   "codemirror_mode": {
    "name": "ipython",
    "version": 3
   },
   "file_extension": ".py",
   "mimetype": "text/x-python",
   "name": "python",
   "nbconvert_exporter": "python",
   "pygments_lexer": "ipython3",
   "version": "3.8.17"
  }
 },
 "nbformat": 4,
 "nbformat_minor": 5
}
