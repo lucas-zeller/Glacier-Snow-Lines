{
 "cells": [
  {
   "cell_type": "code",
   "execution_count": 1,
   "id": "a659775a",
   "metadata": {},
   "outputs": [],
   "source": [
    "import os\n",
    "import matplotlib.pyplot as plt\n",
    "from osgeo import gdal\n",
    "import geopandas as gpd\n",
    "import pandas as pd\n",
    "import shutil\n",
    "import time"
   ]
  },
  {
   "cell_type": "code",
   "execution_count": 2,
   "id": "4921f41f",
   "metadata": {},
   "outputs": [],
   "source": [
    "# define folder paths\n",
    "folder_AGVA = os.path.join('C:',os.sep,'Users','lzell','OneDrive - Colostate','Desktop',\"AGVA\")\n",
    "folder_products = os.path.join(folder_AGVA, 'Derived products', 'S2', 'Average AAs')\n",
    "\n",
    "# open rgi df\n",
    "path_rgi = os.path.join(folder_AGVA, 'RGI', \"rgi_2km_o3regions\", \"rgi_2km_o3regions.shp\")\n",
    "rgi_gdf = gpd.read_file(path_rgi)"
   ]
  },
  {
   "cell_type": "code",
   "execution_count": 3,
   "id": "d63c0795",
   "metadata": {},
   "outputs": [
    {
     "name": "stdout",
     "output_type": "stream",
     "text": [
      "2880\n"
     ]
    },
    {
     "data": {
      "text/plain": [
       "array(['2', '6', '4', '3', '5'], dtype=object)"
      ]
     },
     "execution_count": 3,
     "metadata": {},
     "output_type": "execute_result"
    }
   ],
   "source": [
    "# get list of all the .tif AAs in the folder\n",
    "all_tifs_names = os.listdir(folder_products)\n",
    "\n",
    "# keep only tif file paths\n",
    "all_tifs_names = [i for i in all_tifs_names if i[-3:]=='tif']\n",
    "\n",
    "# make them into full paths\n",
    "all_tifs_paths = [os.path.join(folder_products, i) for i in all_tifs_names]\n",
    "\n",
    "# get rgiid\n",
    "all_rgi_id = [i[3:17] for i in all_tifs_names]\n",
    "\n",
    "# make df\n",
    "df = pd.DataFrame({'RGIId':all_rgi_id, 'tif_name':all_tifs_names, 'tif_path':all_tifs_paths})\n",
    "\n",
    "# add o2, o3 region\n",
    "df = df.merge(rgi_gdf, on='RGIId', how='left')\n",
    "print(len(df))\n",
    "df.head()\n",
    "df['O2Region'].unique()"
   ]
  },
  {
   "cell_type": "code",
   "execution_count": 11,
   "id": "4d9d8d78",
   "metadata": {},
   "outputs": [
    {
     "name": "stdout",
     "output_type": "stream",
     "text": [
      "2\n",
      "3\n",
      "4\n",
      "5\n",
      "6\n",
      "Done\n"
     ]
    }
   ],
   "source": [
    "paths = []\n",
    "for n in [2,3,4,5,6]:\n",
    "    print(n)\n",
    "#     if n!=5: continue\n",
    "\n",
    "    # keep only the rgi ids that are in o2region x\n",
    "    df_subset = df[df['O2Region']==str(n)]\n",
    "    \n",
    "    # grab the full list of paths\n",
    "    all_paths = df_subset['tif_path'].values\n",
    "\n",
    "    # define path for vrt, output location/name\n",
    "    out_path = os.path.join(folder_AGVA, 'Derived products', 'S2', f\"Region_0{n}_AA.tif\")\n",
    "    vrt_path = os.path.join(folder_AGVA, 'Derived products', 'S2', f'merged{n}.vrt')\n",
    "\n",
    "    # build vrt dataset\n",
    "    vrt = gdal.BuildVRT(vrt_path, list(all_paths), VRTNodata='nan', srcNodata=0)    \n",
    "    vrt = 0\n",
    "#     # Open the VRT dataset\n",
    "#     ds = gdal.Open(vrt_path)\n",
    "    \n",
    "#     # pause for a few seconds to make sure the vrt gets built\n",
    "#     time.sleep(180)\n",
    "    \n",
    "#     print(f\"Mosaicing Region {n}\")\n",
    "#     gdal.Translate(out_path, ds, outputType=gdal.GDT_Byte, creationOptions = ['PREDICTOR=2','COMPRESS=DEFLATE', 'ZLEVEL=9'])\n",
    "# #     del vrt, ds\n",
    "# #     os.remove(vrt_path)\n",
    "#     print(\"mosaicing done\")\n",
    "print(\"Done\")"
   ]
  },
  {
   "cell_type": "code",
   "execution_count": 12,
   "id": "4ea6ea2a",
   "metadata": {},
   "outputs": [
    {
     "name": "stdout",
     "output_type": "stream",
     "text": [
      "2\n",
      "Mosaicing Region 2\n",
      "mosaicing done\n",
      "3\n",
      "Mosaicing Region 3\n",
      "mosaicing done\n",
      "4\n",
      "Mosaicing Region 4\n",
      "mosaicing done\n",
      "5\n",
      "Mosaicing Region 5\n",
      "mosaicing done\n",
      "6\n",
      "Mosaicing Region 6\n",
      "mosaicing done\n"
     ]
    }
   ],
   "source": [
    "for n in [2,3,4,5,6]:\n",
    "    print(n)\n",
    "#     if n!=5: continue\n",
    "\n",
    "#     # keep only the rgi ids that are in o2region x\n",
    "#     df_subset = df[df['O2Region']==str(n)]\n",
    "    \n",
    "#     # grab the full list of paths\n",
    "#     all_paths = df_subset['tif_path'].values\n",
    "\n",
    "    # define path for vrt, output location/name\n",
    "    out_path = os.path.join(folder_AGVA, 'Derived products', 'S2', f\"Region_0{n}_AA.tif\")\n",
    "    vrt_path = os.path.join(folder_AGVA, 'Derived products', 'S2', f'merged{n}.vrt')\n",
    "\n",
    "#     # build vrt dataset\n",
    "#     vrt = gdal.BuildVRT(vrt_path, list(all_paths), VRTNodata='nan', srcNodata=0)    \n",
    "    \n",
    "    # Open the VRT dataset\n",
    "    ds = gdal.Open(vrt_path)\n",
    "    \n",
    "    # pause for a few seconds to make sure the vrt gets built\n",
    "#     time.sleep(180)\n",
    "    \n",
    "    print(f\"Mosaicing Region {n}\")\n",
    "    gdal.Translate(out_path, ds, outputType=gdal.GDT_Byte, creationOptions = ['PREDICTOR=2','COMPRESS=DEFLATE', 'ZLEVEL=9'])\n",
    "#     del vrt, ds\n",
    "#     os.remove(vrt_path)\n",
    "    print(\"mosaicing done\")"
   ]
  },
  {
   "cell_type": "code",
   "execution_count": null,
   "id": "24a60c70",
   "metadata": {},
   "outputs": [],
   "source": []
  }
 ],
 "metadata": {
  "kernelspec": {
   "display_name": "Python 3 (ipykernel)",
   "language": "python",
   "name": "python3"
  },
  "language_info": {
   "codemirror_mode": {
    "name": "ipython",
    "version": 3
   },
   "file_extension": ".py",
   "mimetype": "text/x-python",
   "name": "python",
   "nbconvert_exporter": "python",
   "pygments_lexer": "ipython3",
   "version": "3.8.17"
  }
 },
 "nbformat": 4,
 "nbformat_minor": 5
}
